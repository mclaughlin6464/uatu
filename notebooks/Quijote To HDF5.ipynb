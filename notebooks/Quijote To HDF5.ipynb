{
 "cells": [
  {
   "cell_type": "markdown",
   "metadata": {},
   "source": [
    "Gonna see what I can do with the Quijote sims..."
   ]
  },
  {
   "cell_type": "code",
   "execution_count": 7,
   "metadata": {
    "collapsed": true
   },
   "outputs": [],
   "source": [
    "%matplotlib inline\n",
    "from matplotlib import pyplot as plt"
   ]
  },
  {
   "cell_type": "code",
   "execution_count": 8,
   "metadata": {},
   "outputs": [],
   "source": [
    "import numpy as np\n",
    "from os import path \n",
    "import h5py"
   ]
  },
  {
   "cell_type": "code",
   "execution_count": 9,
   "metadata": {
    "collapsed": true
   },
   "outputs": [],
   "source": [
    "quijote_dir = '/scratch/users/swmclau2/UatuQuijote/'"
   ]
  },
  {
   "cell_type": "raw",
   "metadata": {},
   "source": [
    "cosmos = [('fiducial','Box000', (0.3175, 0.834),\n",
    "                  'Om_p': 'Om_0.3275_s8_0.834',\n",
    "                  'Om_m': 'Om_0.3075_s8_0.834',\n",
    "                  's8_p': 'Om_0.3175_s8_0.849',\n",
    "                  's8_m': 'Om_0.3175_s8_0.819'}"
   ]
  },
  {
   "cell_type": "code",
   "execution_count": 10,
   "metadata": {
    "collapsed": true
   },
   "outputs": [],
   "source": [
    "cosmos = [('fiducial','Box000', (0.3175, 0.834) ),\n",
    "          ('Om_p','Box001', (0.3275, 0.834) ),\n",
    "          ('Om_m','Box002', (0.3075, 0.834) ),\n",
    "          ('s8_p','Box003', (0.3175, 0.849) ),\n",
    "          ('s8_m','Box004', (0.3175, 0.819) )]"
   ]
  },
  {
   "cell_type": "code",
   "execution_count": 11,
   "metadata": {
    "collapsed": true
   },
   "outputs": [],
   "source": [
    "output_fname = path.join(quijote_dir, 'UatuQuijoteTraining.hdf5')"
   ]
  },
  {
   "cell_type": "code",
   "execution_count": 12,
   "metadata": {
    "scrolled": false
   },
   "outputs": [
    {
     "name": "stdout",
     "output_type": "stream",
     "text": [
      "fiducial\n"
     ]
    },
    {
     "name": "stderr",
     "output_type": "stream",
     "text": [
      "/share/software/user/open/py-scipystack/1.0_py27/lib/python2.7/site-packages/ipykernel_launcher.py:18: DeprecationWarning: Both axis > a.ndim and axis < -a.ndim - 1 are deprecated and will raise an AxisError in the future.\n"
     ]
    },
    {
     "name": "stdout",
     "output_type": "stream",
     "text": [
      "Om_p\n",
      "Om_m\n",
      "s8_p\n",
      "s8_m\n"
     ]
    }
   ],
   "source": [
    "with h5py.File(output_fname, 'w') as output_file:\n",
    "    output_file.attrs['start'] = 0\n",
    "    output_file.attrs['stop'] = 5\n",
    "    output_file.attrs['shape'] = (1600, 128,128)\n",
    "    output_file.attrs['mean'] = 0.0\n",
    "    output_file.attrs['std'] = 1.0\n",
    "\n",
    "\n",
    "for simname, boxno, y, in cosmos:\n",
    "    print simname\n",
    "    sublogsims = np.zeros((400*4, 128, 128, 1))\n",
    "    for i in xrange(400):\n",
    "        sim = np.load(path.join(quijote_dir, simname, str(i), 'df_z=0.npy'))\n",
    "        logsim = np.log10(sim-np.min(sim)+1e-2)\n",
    "        tmp = []\n",
    "        for subbox_i, subbox_j in [(0,0), (0,1), (1,0), (1,1)]:\n",
    "            sublogsim = logsim[subbox_i*128:(subbox_i+1)*128, subbox_j*128:(subbox_j+1)*128]\n",
    "            tmp.append(np.expand_dims(sublogsim, axis = 3))\n",
    "        sublogsims[i*4:(i+1)*4] = np.array(tmp)\n",
    "        \n",
    "    with h5py.File(output_fname) as output_file:\n",
    "        grp = output_file.create_group(boxno)\n",
    "        grp.create_dataset('X', data = sublogsims)\n",
    "        grp.create_dataset('Y', data= np.tile(np.array(y), (sublogsims.shape[0], 1)))"
   ]
  },
  {
   "cell_type": "code",
   "execution_count": 13,
   "metadata": {
    "collapsed": true
   },
   "outputs": [],
   "source": [
    "output_fname = path.join(quijote_dir, 'UatuQuijoteTest.hdf5')"
   ]
  },
  {
   "cell_type": "code",
   "execution_count": 14,
   "metadata": {
    "scrolled": false
   },
   "outputs": [
    {
     "name": "stdout",
     "output_type": "stream",
     "text": [
      "fiducial\n"
     ]
    },
    {
     "name": "stderr",
     "output_type": "stream",
     "text": [
      "/share/software/user/open/py-scipystack/1.0_py27/lib/python2.7/site-packages/ipykernel_launcher.py:18: DeprecationWarning: Both axis > a.ndim and axis < -a.ndim - 1 are deprecated and will raise an AxisError in the future.\n"
     ]
    },
    {
     "ename": "ValueError",
     "evalue": "could not broadcast input array from shape (4,128,128,1) into shape (4,128,128)",
     "output_type": "error",
     "traceback": [
      "\u001b[0;31m\u001b[0m",
      "\u001b[0;31mValueError\u001b[0mTraceback (most recent call last)",
      "\u001b[0;32m<ipython-input-14-c4612f442bb3>\u001b[0m in \u001b[0;36m<module>\u001b[0;34m()\u001b[0m\n\u001b[1;32m     17\u001b[0m             \u001b[0msublogsim\u001b[0m \u001b[0;34m=\u001b[0m \u001b[0mlogsim\u001b[0m\u001b[0;34m[\u001b[0m\u001b[0msubbox_i\u001b[0m\u001b[0;34m*\u001b[0m\u001b[0;36m128\u001b[0m\u001b[0;34m:\u001b[0m\u001b[0;34m(\u001b[0m\u001b[0msubbox_i\u001b[0m\u001b[0;34m+\u001b[0m\u001b[0;36m1\u001b[0m\u001b[0;34m)\u001b[0m\u001b[0;34m*\u001b[0m\u001b[0;36m128\u001b[0m\u001b[0;34m,\u001b[0m \u001b[0msubbox_j\u001b[0m\u001b[0;34m*\u001b[0m\u001b[0;36m128\u001b[0m\u001b[0;34m:\u001b[0m\u001b[0;34m(\u001b[0m\u001b[0msubbox_j\u001b[0m\u001b[0;34m+\u001b[0m\u001b[0;36m1\u001b[0m\u001b[0;34m)\u001b[0m\u001b[0;34m*\u001b[0m\u001b[0;36m128\u001b[0m\u001b[0;34m]\u001b[0m\u001b[0;34m\u001b[0m\u001b[0m\n\u001b[1;32m     18\u001b[0m             \u001b[0mtmp\u001b[0m\u001b[0;34m.\u001b[0m\u001b[0mappend\u001b[0m\u001b[0;34m(\u001b[0m\u001b[0mnp\u001b[0m\u001b[0;34m.\u001b[0m\u001b[0mexpand_dims\u001b[0m\u001b[0;34m(\u001b[0m\u001b[0msublogsim\u001b[0m\u001b[0;34m,\u001b[0m \u001b[0maxis\u001b[0m \u001b[0;34m=\u001b[0m \u001b[0;36m3\u001b[0m\u001b[0;34m)\u001b[0m\u001b[0;34m)\u001b[0m\u001b[0;34m\u001b[0m\u001b[0m\n\u001b[0;32m---> 19\u001b[0;31m         \u001b[0msublogsims\u001b[0m\u001b[0;34m[\u001b[0m\u001b[0;34m(\u001b[0m\u001b[0mi\u001b[0m\u001b[0;34m-\u001b[0m\u001b[0;36m400\u001b[0m\u001b[0;34m)\u001b[0m\u001b[0;34m*\u001b[0m\u001b[0;36m4\u001b[0m\u001b[0;34m:\u001b[0m\u001b[0;34m(\u001b[0m\u001b[0mi\u001b[0m\u001b[0;34m+\u001b[0m\u001b[0;36m1\u001b[0m\u001b[0;34m-\u001b[0m\u001b[0;36m400\u001b[0m\u001b[0;34m)\u001b[0m\u001b[0;34m*\u001b[0m\u001b[0;36m4\u001b[0m\u001b[0;34m]\u001b[0m \u001b[0;34m=\u001b[0m \u001b[0mnp\u001b[0m\u001b[0;34m.\u001b[0m\u001b[0marray\u001b[0m\u001b[0;34m(\u001b[0m\u001b[0mtmp\u001b[0m\u001b[0;34m)\u001b[0m\u001b[0;34m\u001b[0m\u001b[0m\n\u001b[0m\u001b[1;32m     20\u001b[0m \u001b[0;34m\u001b[0m\u001b[0m\n\u001b[1;32m     21\u001b[0m     \u001b[0;32mwith\u001b[0m \u001b[0mh5py\u001b[0m\u001b[0;34m.\u001b[0m\u001b[0mFile\u001b[0m\u001b[0;34m(\u001b[0m\u001b[0moutput_fname\u001b[0m\u001b[0;34m)\u001b[0m \u001b[0;32mas\u001b[0m \u001b[0moutput_file\u001b[0m\u001b[0;34m:\u001b[0m\u001b[0;34m\u001b[0m\u001b[0m\n",
      "\u001b[0;31mValueError\u001b[0m: could not broadcast input array from shape (4,128,128,1) into shape (4,128,128)"
     ]
    }
   ],
   "source": [
    "with h5py.File(output_fname, 'w') as output_file:\n",
    "    output_file.attrs['start'] = 0\n",
    "    output_file.attrs['stop'] = 5\n",
    "    output_file.attrs['shape'] = (400, 128,128)\n",
    "    output_file.attrs['mean'] = 0.0\n",
    "    output_file.attrs['std'] = 1.0\n",
    "\n",
    "\n",
    "for simname, boxno, y, in cosmos:\n",
    "    print simname\n",
    "    sublogsims = np.zeros((400*4, 128, 128))\n",
    "    for i in xrange(400, 500):\n",
    "        sim = np.load(path.join(quijote_dir, simname, str(i), 'df_z=0.npy'))\n",
    "        logsim = np.log10(sim-np.min(sim)+1e-2)\n",
    "        tmp = []\n",
    "        for subbox_i, subbox_j in [(0,0), (0,1), (1,0), (1,1)]:\n",
    "            sublogsim = logsim[subbox_i*128:(subbox_i+1)*128, subbox_j*128:(subbox_j+1)*128]\n",
    "            tmp.append(np.expand_dims(sublogsim, axis = 3))\n",
    "        sublogsims[(i-400)*4:(i+1-400)*4] = np.array(tmp)\n",
    "        \n",
    "    with h5py.File(output_fname) as output_file:\n",
    "        grp = output_file.create_group(boxno)\n",
    "        grp.create_dataset('X', data = sublogsims)\n",
    "        grp.create_dataset('Y', data= np.tile(np.array(y), (sublogsims.shape[0], 1)))"
   ]
  },
  {
   "cell_type": "code",
   "execution_count": null,
   "metadata": {},
   "outputs": [],
   "source": [
    "from uatu.watchers.Dataset import DatasetFromFile"
   ]
  },
  {
   "cell_type": "code",
   "execution_count": null,
   "metadata": {
    "collapsed": true
   },
   "outputs": [],
   "source": [
    "batch_size = 32\n",
    "transform = lambda x:x\n",
    "fname = path.join(quijote_dir, 'UatuQuijoteTraining.hdf5')\n",
    "train_dset = DatasetFromFile(fname,batch_size, shuffle=True, augment=True, train_test_split = 0.8,\\\n",
    "                                 whiten = True, cache_size = 100, transform=transform)\n"
   ]
  },
  {
   "cell_type": "code",
   "execution_count": null,
   "metadata": {},
   "outputs": [],
   "source": [
    "for i, (X, Y) in enumerate(train_dset):\n",
    "    print X.shape\n",
    "    plt.imshow(X[0])\n",
    "    plt.title(str(Y[0,0]) + str(Y[0,1]))\n",
    "    plt.show();\n",
    "    \n",
    "    if i==10:\n",
    "        break"
   ]
  },
  {
   "cell_type": "code",
   "execution_count": null,
   "metadata": {},
   "outputs": [],
   "source": [
    "fname"
   ]
  },
  {
   "cell_type": "code",
   "execution_count": null,
   "metadata": {
    "collapsed": true
   },
   "outputs": [],
   "source": []
  }
 ],
 "metadata": {
  "kernelspec": {
   "display_name": "Python 2",
   "language": "python",
   "name": "python2"
  },
  "language_info": {
   "codemirror_mode": {
    "name": "ipython",
    "version": 2
   },
   "file_extension": ".py",
   "mimetype": "text/x-python",
   "name": "python",
   "nbconvert_exporter": "python",
   "pygments_lexer": "ipython2",
   "version": "2.7.13"
  }
 },
 "nbformat": 4,
 "nbformat_minor": 2
}
