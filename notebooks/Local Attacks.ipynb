{
 "cells": [
  {
   "cell_type": "code",
   "execution_count": 1,
   "metadata": {},
   "outputs": [],
   "source": [
    "import numpy as np\n",
    "from matplotlib import pyplot as plt\n",
    "%matplotlib inline"
   ]
  },
  {
   "cell_type": "code",
   "execution_count": 2,
   "metadata": {},
   "outputs": [],
   "source": [
    "import h5py"
   ]
  },
  {
   "cell_type": "code",
   "execution_count": 3,
   "metadata": {
    "scrolled": true
   },
   "outputs": [],
   "source": [
    "import tensorflow as tf"
   ]
  },
  {
   "cell_type": "code",
   "execution_count": 4,
   "metadata": {},
   "outputs": [],
   "source": [
    "import tensorflow as tf\n",
    "tf.logging.set_verbosity(tf.logging.ERROR)"
   ]
  },
  {
   "cell_type": "code",
   "execution_count": 5,
   "metadata": {},
   "outputs": [],
   "source": [
    "from uatu.watchers import *"
   ]
  },
  {
   "cell_type": "code",
   "execution_count": 6,
   "metadata": {},
   "outputs": [],
   "source": [
    "from scipy.ndimage import rotate"
   ]
  },
  {
   "cell_type": "code",
   "execution_count": 7,
   "metadata": {},
   "outputs": [],
   "source": [
    "def log_barrier(x_p, x_o, eps, lam):\n",
    "    norm = tf.norm(x_p - x_o+1e-6)\n",
    "    return -tf.log(eps - norm )/lam"
   ]
  },
  {
   "cell_type": "code",
   "execution_count": 8,
   "metadata": {},
   "outputs": [],
   "source": [
    "def compute_attacked_map(model_init_fn, cost_fn, network_fname,\\\n",
    "                         x_np, target_y_np, n_steps = 10, training=False, adv = False,\\\n",
    "                        use_log_barrier = True, log_eps = 1.5):\n",
    "    tf.reset_default_graph()\n",
    "    x = tf.placeholder(tf.float32, [None, 256, 256,1])\n",
    "    #y = tf.placeholder(tf.float32, [None,2])\n",
    "    y = tf.placeholder(tf.float32, [None,2])\n",
    "    #orig_norm  = tf.placeholder(tf.float32)\n",
    "    x_orig = tf.placeholder(tf.float32, [None, 256, 256,1])\n",
    "\n",
    "    log_barrier_weight = tf.placeholder(tf.float32)\n",
    "    \n",
    "    if adv:\n",
    "        with tf.variable_scope('kappa_filters') as scope:\n",
    "            preds = model_init_fn(x, training=training)\n",
    "\n",
    "            loss = cost_fn(y, preds, x, model_init_fn, {'training':training, 'lam': 0.0}, scope)\n",
    "    else:\n",
    "        preds = model_init_fn(x, training=training)\n",
    "        \n",
    "        loss = cost_fn(y, preds)\n",
    "        \n",
    "    if use_log_barrier:\n",
    "        barrier_loss = log_barrier(x, x_orig, log_eps, log_barrier_weight)\n",
    "        loss = loss + barrier_loss\n",
    "        \n",
    "    grads = tf.gradients(loss, x)\n",
    "\n",
    "    # learning rate maybe needed?\n",
    "    dX = tf.divide(grads, tf.norm(grads))[0]\n",
    "\n",
    "    #with tf.device('/cpu:0'):\n",
    "    saver = tf.train.Saver()\n",
    "\n",
    "    with tf.Session() as sess:\n",
    "        saver.restore(sess, network_fname)\n",
    "        key_dict = {}\n",
    "\n",
    "        x_attacked_np = x_np.copy()\n",
    "        \n",
    "        step = 1e-3\n",
    "        lam = 1e9\n",
    "        lam_incr = 1.00001\n",
    "        for i in xrange(n_steps):\n",
    "            feed_dict = {x: x_attacked_np,y:target_y_np, x_orig: x_np, log_barrier_weight: lam }#, training: False}\n",
    "            dX_np, loss_np, barrier_loss_np = sess.run([dX, loss, barrier_loss], feed_dict=feed_dict)#[0][0]\n",
    "            #print barrier_loss_np\n",
    "            x_attacked_np-=step*rotate(dX_np.squeeze(), 0).reshape((1, 256, 256, 1))\n",
    "            \n",
    "            #if i%100 == 0:\n",
    "            #    print np.linalg.norm(x_attacked_np - x_np), loss_np\n",
    "            #    plt.imshow( (x_attacked_np - x_np).squeeze() )\n",
    "            #    plt.title(i)\n",
    "            #    plt.show()\n",
    "            \n",
    "            lam*=lam_incr\n",
    "            if lam >= 1e9:\n",
    "                lam = 1e9\n",
    "            \n",
    "        # ensure the attacked map has the same normalization as the old one.\n",
    "\n",
    "    return x_attacked_np"
   ]
  },
  {
   "cell_type": "code",
   "execution_count": 9,
   "metadata": {},
   "outputs": [],
   "source": [
    "def test(model_init_fn, x_np, fname,  n_samples = 10, training=False, adv = False):\n",
    "    tf.reset_default_graph()\n",
    "\n",
    "    x = tf.placeholder(tf.float32, [None, 256,256,1], name = 'x')\n",
    "\n",
    "    if adv:\n",
    "        with tf.variable_scope('kappa_filters') as scope:\n",
    "            preds = model_init_fn(x, training=training)\n",
    "    else:\n",
    "        preds = model_init_fn(x, training=training)\n",
    "        \n",
    "    #with tf.device('/cpu:0'):\n",
    "    saver = tf.train.Saver()\n",
    "\n",
    "    with tf.Session() as sess:\n",
    "        saver.restore(sess, fname)\n",
    "\n",
    "        #assert y_np.shape[0] == 1 , 'batchsize greater than 1'\n",
    "        samples = []\n",
    "        feed_dict = {x: x_np}#, training: False}\n",
    "\n",
    "        for j in xrange(n_samples):\n",
    "            preds_np  = sess.run(preds, feed_dict=feed_dict)\n",
    "            samples.append(preds_np)\n",
    "\n",
    "    return np.vstack(samples)"
   ]
  },
  {
   "cell_type": "code",
   "execution_count": 10,
   "metadata": {},
   "outputs": [],
   "source": [
    "f = h5py.File('../data/UatuLightconeTraining.hdf5', 'r')\n",
    "mean, std =  f.attrs['mean'], f.attrs['std']\n",
    "f.close()"
   ]
  },
  {
   "cell_type": "code",
   "execution_count": 11,
   "metadata": {},
   "outputs": [],
   "source": [
    "f = h5py.File('../data/UatuLightconeSameSeed.hdf5', 'r')\n",
    "#for boxno in xrange(5):\n",
    "boxno = 2\n",
    "target_boxno = 3\n",
    "test_X = np.array(f['Box%03d'%boxno][\"X\"][()])\n",
    "test_Y = f['Box%03d'%boxno]['Y'][0].reshape((1,2))\n",
    "\n",
    "target_X = np.array(f['Box%03d'%target_boxno][\"X\"][()])\n",
    "target_Y = f['Box%03d'%target_boxno]['Y'][0].reshape((1,2))\n",
    "f.close()"
   ]
  },
  {
   "cell_type": "raw",
   "metadata": {},
   "source": [
    "#Box Cosmos:\n",
    "box_cosmos = np.array([\n",
    "[0.303972, 0.877967],\n",
    "[0.281863, 0.856348],\n",
    "[0.250043, 0.760264],\n",
    "[0.347294, 0.978854],\n",
    "[0.260716, 0.776786]])"
   ]
  },
  {
   "cell_type": "code",
   "execution_count": 12,
   "metadata": {},
   "outputs": [],
   "source": [
    "test_X = (test_X-mean)/(std)\n",
    "target_X = (target_X-mean)/(std)"
   ]
  },
  {
   "cell_type": "code",
   "execution_count": 13,
   "metadata": {},
   "outputs": [],
   "source": [
    "n = 100 \n",
    "batch_size = 1 \n",
    "\n",
    "X = test_X[n, :, :, :].reshape((1, test_X.shape[1],\\\n",
    "                                test_X.shape[2], test_X.shape[3]))\n",
    "#X = (X-mean)/(std)\n",
    "X = np.tile(X, (batch_size, 1, 1, 1) )\n",
    "Y = test_Y[0, :].reshape((1, test_Y.shape[1]))\n",
    "Y = np.tile(Y, (batch_size, 1))"
   ]
  },
  {
   "cell_type": "code",
   "execution_count": 14,
   "metadata": {},
   "outputs": [],
   "source": [
    "targ_X = target_X[n, :, :, :].reshape((1, test_X.shape[1],\\\n",
    "                                test_X.shape[2], test_X.shape[3]))\n",
    "#targ_X = (targ_X-mean)/(std)"
   ]
  },
  {
   "cell_type": "code",
   "execution_count": 15,
   "metadata": {},
   "outputs": [],
   "source": [
    "n_steps = 100"
   ]
  },
  {
   "cell_type": "raw",
   "metadata": {},
   "source": [
    "net = 'normal'\n",
    "network_fname = '../networks/gupta_net_kappa-28900'\n",
    "model_init_fn = gupta_network_init_fn\n",
    "cost_fn = standard_abs_cost_fn\n",
    "training=False\n",
    "adv = False"
   ]
  },
  {
   "cell_type": "raw",
   "metadata": {},
   "source": [
    "net = 'bayes'\n",
    "network_fname = '../networks/gupta_bayes_net_kappa-45000'\n",
    "model_init_fn = gupta_bayesian_network_init_fn\n",
    "cost_fn = original_bayes_cost_fn\n",
    "training=True\n",
    "adv = False"
   ]
  },
  {
   "cell_type": "code",
   "execution_count": 16,
   "metadata": {},
   "outputs": [],
   "source": [
    "net = 'adversarial'\n",
    "network_fname = '../networks/gupta_net_kappa_adv_abs-9050'\n",
    "model_init_fn = gupta_adv_network_init_fn\n",
    "cost_fn = adversarial_standard_abs_cost_fn\n",
    "training=False\n",
    "adv = True"
   ]
  },
  {
   "cell_type": "code",
   "execution_count": 17,
   "metadata": {
    "scrolled": false
   },
   "outputs": [
    {
     "ename": "ValueError",
     "evalue": "Shapes (?, 256, 256, 32) and (?, 2) are incompatible",
     "output_type": "error",
     "traceback": [
      "\u001b[0;31m---------------------------------------------------------------------------\u001b[0m",
      "\u001b[0;31mValueError\u001b[0m                                Traceback (most recent call last)",
      "\u001b[0;32m<ipython-input-17-2d78d99f7954>\u001b[0m in \u001b[0;36m<module>\u001b[0;34m()\u001b[0m\n\u001b[0;32m----> 1\u001b[0;31m \u001b[0mX_attacked\u001b[0m \u001b[0;34m=\u001b[0m \u001b[0mcompute_attacked_map\u001b[0m\u001b[0;34m(\u001b[0m\u001b[0mmodel_init_fn\u001b[0m\u001b[0;34m,\u001b[0m \u001b[0mcost_fn\u001b[0m\u001b[0;34m,\u001b[0m \u001b[0mnetwork_fname\u001b[0m\u001b[0;34m,\u001b[0m                            \u001b[0mX\u001b[0m\u001b[0;34m,\u001b[0m \u001b[0mtarget_Y\u001b[0m\u001b[0;34m,\u001b[0m \u001b[0mn_steps\u001b[0m \u001b[0;34m=\u001b[0m \u001b[0mn_steps\u001b[0m\u001b[0;34m,\u001b[0m \u001b[0mtraining\u001b[0m\u001b[0;34m=\u001b[0m\u001b[0mtraining\u001b[0m\u001b[0;34m,\u001b[0m \u001b[0madv\u001b[0m\u001b[0;34m=\u001b[0m\u001b[0madv\u001b[0m\u001b[0;34m,\u001b[0m \u001b[0muse_log_barrier\u001b[0m \u001b[0;34m=\u001b[0m \u001b[0mTrue\u001b[0m\u001b[0;34m)\u001b[0m\u001b[0;34m\u001b[0m\u001b[0;34m\u001b[0m\u001b[0m\n\u001b[0m",
      "\u001b[0;32m<ipython-input-8-4b158a649e63>\u001b[0m in \u001b[0;36mcompute_attacked_map\u001b[0;34m(model_init_fn, cost_fn, network_fname, x_np, target_y_np, n_steps, training, adv, use_log_barrier, log_eps)\u001b[0m\n\u001b[1;32m     13\u001b[0m             \u001b[0mpreds\u001b[0m \u001b[0;34m=\u001b[0m \u001b[0mmodel_init_fn\u001b[0m\u001b[0;34m(\u001b[0m\u001b[0mx\u001b[0m\u001b[0;34m,\u001b[0m \u001b[0mtraining\u001b[0m\u001b[0;34m=\u001b[0m\u001b[0mtraining\u001b[0m\u001b[0;34m)\u001b[0m\u001b[0;34m\u001b[0m\u001b[0;34m\u001b[0m\u001b[0m\n\u001b[1;32m     14\u001b[0m \u001b[0;34m\u001b[0m\u001b[0m\n\u001b[0;32m---> 15\u001b[0;31m             \u001b[0mloss\u001b[0m \u001b[0;34m=\u001b[0m \u001b[0mcost_fn\u001b[0m\u001b[0;34m(\u001b[0m\u001b[0my\u001b[0m\u001b[0;34m,\u001b[0m \u001b[0mpreds\u001b[0m\u001b[0;34m,\u001b[0m \u001b[0mx\u001b[0m\u001b[0;34m,\u001b[0m \u001b[0mmodel_init_fn\u001b[0m\u001b[0;34m,\u001b[0m \u001b[0;34m{\u001b[0m\u001b[0;34m'training'\u001b[0m\u001b[0;34m:\u001b[0m\u001b[0mtraining\u001b[0m\u001b[0;34m,\u001b[0m \u001b[0;34m'lam'\u001b[0m\u001b[0;34m:\u001b[0m \u001b[0;36m0.0\u001b[0m\u001b[0;34m}\u001b[0m\u001b[0;34m,\u001b[0m \u001b[0mscope\u001b[0m\u001b[0;34m)\u001b[0m\u001b[0;34m\u001b[0m\u001b[0;34m\u001b[0m\u001b[0m\n\u001b[0m\u001b[1;32m     16\u001b[0m     \u001b[0;32melse\u001b[0m\u001b[0;34m:\u001b[0m\u001b[0;34m\u001b[0m\u001b[0;34m\u001b[0m\u001b[0m\n\u001b[1;32m     17\u001b[0m         \u001b[0mpreds\u001b[0m \u001b[0;34m=\u001b[0m \u001b[0mmodel_init_fn\u001b[0m\u001b[0;34m(\u001b[0m\u001b[0mx\u001b[0m\u001b[0;34m,\u001b[0m \u001b[0mtraining\u001b[0m\u001b[0;34m=\u001b[0m\u001b[0mtraining\u001b[0m\u001b[0;34m)\u001b[0m\u001b[0;34m\u001b[0m\u001b[0;34m\u001b[0m\u001b[0m\n",
      "\u001b[0;32m/home/sean/.local/lib/python2.7/site-packages/uatu/watchers/adversarial_train.pyc\u001b[0m in \u001b[0;36m_func\u001b[0;34m(y, preds, x, model, model_kwargs, scope)\u001b[0m\n\u001b[1;32m     27\u001b[0m         \u001b[0;32mdef\u001b[0m \u001b[0m_func\u001b[0m\u001b[0;34m(\u001b[0m\u001b[0my\u001b[0m\u001b[0;34m,\u001b[0m \u001b[0mpreds\u001b[0m\u001b[0;34m,\u001b[0m \u001b[0mx\u001b[0m\u001b[0;34m,\u001b[0m \u001b[0mmodel\u001b[0m\u001b[0;34m,\u001b[0m \u001b[0mmodel_kwargs\u001b[0m\u001b[0;34m,\u001b[0m \u001b[0mscope\u001b[0m\u001b[0;34m)\u001b[0m\u001b[0;34m:\u001b[0m\u001b[0;34m\u001b[0m\u001b[0;34m\u001b[0m\u001b[0m\n\u001b[1;32m     28\u001b[0m \u001b[0;34m\u001b[0m\u001b[0m\n\u001b[0;32m---> 29\u001b[0;31m             \u001b[0mloss\u001b[0m \u001b[0;34m=\u001b[0m \u001b[0mloss_func\u001b[0m\u001b[0;34m(\u001b[0m\u001b[0my\u001b[0m\u001b[0;34m,\u001b[0m \u001b[0mpreds\u001b[0m\u001b[0;34m)\u001b[0m\u001b[0;34m\u001b[0m\u001b[0;34m\u001b[0m\u001b[0m\n\u001b[0m\u001b[1;32m     30\u001b[0m             \u001b[0mgrads\u001b[0m \u001b[0;34m=\u001b[0m \u001b[0mtf\u001b[0m\u001b[0;34m.\u001b[0m\u001b[0mgradients\u001b[0m\u001b[0;34m(\u001b[0m\u001b[0mloss\u001b[0m\u001b[0;34m,\u001b[0m \u001b[0mx\u001b[0m\u001b[0;34m)\u001b[0m\u001b[0;34m\u001b[0m\u001b[0;34m\u001b[0m\u001b[0m\n\u001b[1;32m     31\u001b[0m \u001b[0;34m\u001b[0m\u001b[0m\n",
      "\u001b[0;32m/home/sean/.local/lib/python2.7/site-packages/uatu/watchers/adversarial_train.pyc\u001b[0m in \u001b[0;36madversarial_standard_abs_cost_fn\u001b[0;34m(y, preds)\u001b[0m\n\u001b[1;32m     60\u001b[0m \u001b[0;34m@\u001b[0m\u001b[0madversarial\u001b[0m\u001b[0;34m(\u001b[0m\u001b[0;34m)\u001b[0m\u001b[0;34m\u001b[0m\u001b[0;34m\u001b[0m\u001b[0m\n\u001b[1;32m     61\u001b[0m \u001b[0;32mdef\u001b[0m \u001b[0madversarial_standard_abs_cost_fn\u001b[0m\u001b[0;34m(\u001b[0m\u001b[0my\u001b[0m\u001b[0;34m,\u001b[0m\u001b[0mpreds\u001b[0m\u001b[0;34m)\u001b[0m\u001b[0;34m:\u001b[0m\u001b[0;34m\u001b[0m\u001b[0;34m\u001b[0m\u001b[0m\n\u001b[0;32m---> 62\u001b[0;31m     \u001b[0;32mreturn\u001b[0m \u001b[0mstandard_abs_cost_fn\u001b[0m\u001b[0;34m(\u001b[0m\u001b[0my\u001b[0m\u001b[0;34m,\u001b[0m \u001b[0mpreds\u001b[0m\u001b[0;34m)\u001b[0m\u001b[0;34m\u001b[0m\u001b[0;34m\u001b[0m\u001b[0m\n\u001b[0m\u001b[1;32m     63\u001b[0m \u001b[0;34m\u001b[0m\u001b[0m\n\u001b[1;32m     64\u001b[0m \u001b[0;34m@\u001b[0m\u001b[0madversarial\u001b[0m\u001b[0;34m(\u001b[0m\u001b[0;34m)\u001b[0m\u001b[0;34m\u001b[0m\u001b[0;34m\u001b[0m\u001b[0m\n",
      "\u001b[0;32m/home/sean/.local/lib/python2.7/site-packages/uatu/watchers/train.pyc\u001b[0m in \u001b[0;36mstandard_abs_cost_fn\u001b[0;34m(y, preds)\u001b[0m\n\u001b[1;32m     16\u001b[0m \u001b[0;34m\u001b[0m\u001b[0m\n\u001b[1;32m     17\u001b[0m \u001b[0;32mdef\u001b[0m \u001b[0mstandard_abs_cost_fn\u001b[0m\u001b[0;34m(\u001b[0m\u001b[0my\u001b[0m\u001b[0;34m,\u001b[0m \u001b[0mpreds\u001b[0m\u001b[0;34m)\u001b[0m\u001b[0;34m:\u001b[0m\u001b[0;34m\u001b[0m\u001b[0;34m\u001b[0m\u001b[0m\n\u001b[0;32m---> 18\u001b[0;31m     \u001b[0;32mreturn\u001b[0m \u001b[0mtf\u001b[0m\u001b[0;34m.\u001b[0m\u001b[0mlosses\u001b[0m\u001b[0;34m.\u001b[0m\u001b[0mabsolute_difference\u001b[0m\u001b[0;34m(\u001b[0m\u001b[0mlabels\u001b[0m\u001b[0;34m=\u001b[0m\u001b[0my\u001b[0m\u001b[0;34m,\u001b[0m \u001b[0mpredictions\u001b[0m\u001b[0;34m=\u001b[0m\u001b[0mpreds\u001b[0m\u001b[0;34m,\u001b[0m \u001b[0mreduction\u001b[0m\u001b[0;34m=\u001b[0m\u001b[0mtf\u001b[0m\u001b[0;34m.\u001b[0m\u001b[0mlosses\u001b[0m\u001b[0;34m.\u001b[0m\u001b[0mReduction\u001b[0m\u001b[0;34m.\u001b[0m\u001b[0mSUM\u001b[0m\u001b[0;34m)\u001b[0m\u001b[0;34m\u001b[0m\u001b[0;34m\u001b[0m\u001b[0m\n\u001b[0m\u001b[1;32m     19\u001b[0m \u001b[0;34m\u001b[0m\u001b[0m\n\u001b[1;32m     20\u001b[0m \u001b[0;32mdef\u001b[0m \u001b[0mbayes_cost_fn\u001b[0m\u001b[0;34m(\u001b[0m\u001b[0my\u001b[0m\u001b[0;34m,\u001b[0m \u001b[0mpreds\u001b[0m\u001b[0;34m)\u001b[0m\u001b[0;34m:\u001b[0m\u001b[0;34m\u001b[0m\u001b[0;34m\u001b[0m\u001b[0m\n",
      "\u001b[0;32m/usr/local/lib/python2.7/dist-packages/tensorflow/python/ops/losses/losses_impl.pyc\u001b[0m in \u001b[0;36mabsolute_difference\u001b[0;34m(labels, predictions, weights, scope, loss_collection, reduction)\u001b[0m\n\u001b[1;32m    257\u001b[0m     \u001b[0mpredictions\u001b[0m \u001b[0;34m=\u001b[0m \u001b[0mmath_ops\u001b[0m\u001b[0;34m.\u001b[0m\u001b[0mto_float\u001b[0m\u001b[0;34m(\u001b[0m\u001b[0mpredictions\u001b[0m\u001b[0;34m)\u001b[0m\u001b[0;34m\u001b[0m\u001b[0;34m\u001b[0m\u001b[0m\n\u001b[1;32m    258\u001b[0m     \u001b[0mlabels\u001b[0m \u001b[0;34m=\u001b[0m \u001b[0mmath_ops\u001b[0m\u001b[0;34m.\u001b[0m\u001b[0mto_float\u001b[0m\u001b[0;34m(\u001b[0m\u001b[0mlabels\u001b[0m\u001b[0;34m)\u001b[0m\u001b[0;34m\u001b[0m\u001b[0;34m\u001b[0m\u001b[0m\n\u001b[0;32m--> 259\u001b[0;31m     \u001b[0mpredictions\u001b[0m\u001b[0;34m.\u001b[0m\u001b[0mget_shape\u001b[0m\u001b[0;34m(\u001b[0m\u001b[0;34m)\u001b[0m\u001b[0;34m.\u001b[0m\u001b[0massert_is_compatible_with\u001b[0m\u001b[0;34m(\u001b[0m\u001b[0mlabels\u001b[0m\u001b[0;34m.\u001b[0m\u001b[0mget_shape\u001b[0m\u001b[0;34m(\u001b[0m\u001b[0;34m)\u001b[0m\u001b[0;34m)\u001b[0m\u001b[0;34m\u001b[0m\u001b[0;34m\u001b[0m\u001b[0m\n\u001b[0m\u001b[1;32m    260\u001b[0m     \u001b[0mlosses\u001b[0m \u001b[0;34m=\u001b[0m \u001b[0mmath_ops\u001b[0m\u001b[0;34m.\u001b[0m\u001b[0mabs\u001b[0m\u001b[0;34m(\u001b[0m\u001b[0mmath_ops\u001b[0m\u001b[0;34m.\u001b[0m\u001b[0msubtract\u001b[0m\u001b[0;34m(\u001b[0m\u001b[0mpredictions\u001b[0m\u001b[0;34m,\u001b[0m \u001b[0mlabels\u001b[0m\u001b[0;34m)\u001b[0m\u001b[0;34m)\u001b[0m\u001b[0;34m\u001b[0m\u001b[0;34m\u001b[0m\u001b[0m\n\u001b[1;32m    261\u001b[0m     return compute_weighted_loss(\n",
      "\u001b[0;32m/usr/local/lib/python2.7/dist-packages/tensorflow/python/framework/tensor_shape.pyc\u001b[0m in \u001b[0;36massert_is_compatible_with\u001b[0;34m(self, other)\u001b[0m\n\u001b[1;32m    754\u001b[0m     \"\"\"\n\u001b[1;32m    755\u001b[0m     \u001b[0;32mif\u001b[0m \u001b[0;32mnot\u001b[0m \u001b[0mself\u001b[0m\u001b[0;34m.\u001b[0m\u001b[0mis_compatible_with\u001b[0m\u001b[0;34m(\u001b[0m\u001b[0mother\u001b[0m\u001b[0;34m)\u001b[0m\u001b[0;34m:\u001b[0m\u001b[0;34m\u001b[0m\u001b[0;34m\u001b[0m\u001b[0m\n\u001b[0;32m--> 756\u001b[0;31m       \u001b[0;32mraise\u001b[0m \u001b[0mValueError\u001b[0m\u001b[0;34m(\u001b[0m\u001b[0;34m\"Shapes %s and %s are incompatible\"\u001b[0m \u001b[0;34m%\u001b[0m \u001b[0;34m(\u001b[0m\u001b[0mself\u001b[0m\u001b[0;34m,\u001b[0m \u001b[0mother\u001b[0m\u001b[0;34m)\u001b[0m\u001b[0;34m)\u001b[0m\u001b[0;34m\u001b[0m\u001b[0;34m\u001b[0m\u001b[0m\n\u001b[0m\u001b[1;32m    757\u001b[0m \u001b[0;34m\u001b[0m\u001b[0m\n\u001b[1;32m    758\u001b[0m   \u001b[0;32mdef\u001b[0m \u001b[0mmost_specific_compatible_shape\u001b[0m\u001b[0;34m(\u001b[0m\u001b[0mself\u001b[0m\u001b[0;34m,\u001b[0m \u001b[0mother\u001b[0m\u001b[0;34m)\u001b[0m\u001b[0;34m:\u001b[0m\u001b[0;34m\u001b[0m\u001b[0;34m\u001b[0m\u001b[0m\n",
      "\u001b[0;31mValueError\u001b[0m: Shapes (?, 256, 256, 32) and (?, 2) are incompatible"
     ]
    }
   ],
   "source": [
    "X_attacked = compute_attacked_map(model_init_fn, cost_fn, network_fname,\\\n",
    "                            X, target_Y, n_steps = n_steps, training=training, adv=adv, use_log_barrier = True)"
   ]
  },
  {
   "cell_type": "code",
   "execution_count": null,
   "metadata": {},
   "outputs": [],
   "source": [
    "true_samples = test(model_init_fn, X, network_fname,  100, training, adv=adv)\n",
    "attacked_samples = test(model_init_fn, X_attacked, network_fname,  100, training, adv=adv)"
   ]
  },
  {
   "cell_type": "code",
   "execution_count": null,
   "metadata": {},
   "outputs": [],
   "source": [
    "true_samples[:,0].mean(),attacked_samples[:,0].mean()"
   ]
  },
  {
   "cell_type": "code",
   "execution_count": null,
   "metadata": {},
   "outputs": [],
   "source": [
    "true_samples"
   ]
  },
  {
   "cell_type": "code",
   "execution_count": null,
   "metadata": {},
   "outputs": [],
   "source": [
    "bins = np.linspace(0.2, 0.4, 100)\n",
    "plt.hist(true_samples[:, 0], density=False, color = 'g', alpha = 0.3, label = \"True\", bins = bins);\n",
    "plt.hist(attacked_samples[:, 0], density=False, alpha = 0.3, label = 'Attacked', bins = bins);\n",
    "plt.vlines(Y[0, 0], 0, 10, label = 'True Val');\n",
    "plt.vlines(target_Y[0,0], 0, 10, color = 'r', label = 'Attack Target');\n",
    "plt.legend(loc='best')\n",
    "plt.xlim([0.2, 0.4])"
   ]
  },
  {
   "cell_type": "code",
   "execution_count": null,
   "metadata": {},
   "outputs": [],
   "source": [
    "plt.imshow(X[0,:,:,0])"
   ]
  },
  {
   "cell_type": "code",
   "execution_count": null,
   "metadata": {},
   "outputs": [],
   "source": [
    "plt.imshow(X_attacked[0,:,:,0])"
   ]
  },
  {
   "cell_type": "code",
   "execution_count": null,
   "metadata": {},
   "outputs": [],
   "source": [
    "plt.imshow(targ_X[0,:,:,0])"
   ]
  },
  {
   "cell_type": "code",
   "execution_count": null,
   "metadata": {},
   "outputs": [],
   "source": [
    "diff = X[0,:,:,0] - X_attacked[0,:,:,0]\n",
    "fig = plt.figure(figsize = (12, 6))\n",
    "plt.subplot(121)\n",
    "im = plt.imshow(X.squeeze())\n",
    "plt.colorbar(im)\n",
    "plt.subplot(122)\n",
    "im = plt.imshow(-diff)\n",
    "plt.colorbar(im)"
   ]
  },
  {
   "cell_type": "code",
   "execution_count": null,
   "metadata": {},
   "outputs": [],
   "source": [
    "np.linalg.norm(-diff)"
   ]
  },
  {
   "cell_type": "code",
   "execution_count": null,
   "metadata": {},
   "outputs": [],
   "source": [
    "diff = targ_X[0,:,:,0] - X[0,:,:,0]\n",
    "fig = plt.figure(figsize = (12, 6))\n",
    "plt.subplot(121)\n",
    "im = plt.imshow(targ_X[0,:,:,0].squeeze())\n",
    "plt.colorbar(im)\n",
    "plt.subplot(122)\n",
    "im = plt.imshow(diff)\n",
    "plt.colorbar(im)"
   ]
  },
  {
   "cell_type": "code",
   "execution_count": null,
   "metadata": {},
   "outputs": [],
   "source": [
    "np.linalg.norm(diff)"
   ]
  },
  {
   "cell_type": "code",
   "execution_count": null,
   "metadata": {},
   "outputs": [],
   "source": [
    "attacked_ps = image_ps(X_attacked.squeeze())\n",
    "target_ps = image_ps(targ_X.squeeze())\n",
    "normal_ps = image_ps(X.squeeze())\n",
    "diff_ps = image_ps((X_attacked- X).squeeze())"
   ]
  },
  {
   "cell_type": "code",
   "execution_count": null,
   "metadata": {},
   "outputs": [],
   "source": [
    "fig = plt.figure(figsize = (8, 12))\n",
    "plt.subplot(211)\n",
    "plt.plot(attacked_ps, label = 'Attacked' )\n",
    "plt.plot(target_ps, label = 'Target')\n",
    "plt.plot(normal_ps, label = 'Original')\n",
    "#plt.plot(diff_ps, label = 'Diff')\n",
    "\n",
    "plt.legend(loc='best')\n",
    "plt.loglog();\n",
    "plt.subplot(212)\n",
    "plt.title(\"Attacked/Normal\")\n",
    "plt.plot(attacked_ps/normal_ps, label = 'Attacked')\n",
    "plt.plot(target_ps/normal_ps, label = 'Target')\n",
    "plt.legend(loc='best')\n",
    "plt.ylim([0.4, 6])\n",
    "plt.loglog();"
   ]
  },
  {
   "cell_type": "markdown",
   "metadata": {},
   "source": [
    "---"
   ]
  },
  {
   "cell_type": "code",
   "execution_count": null,
   "metadata": {},
   "outputs": [],
   "source": [
    "from scipy.fftpack import fft2"
   ]
  },
  {
   "cell_type": "code",
   "execution_count": null,
   "metadata": {},
   "outputs": [],
   "source": [
    "def azimuthalAverage(image, center=None):\n",
    "    \"\"\"\n",
    "    Calculate the azimuthally averaged radial profile.\n",
    "\n",
    "    image - The 2D image\n",
    "    center - The [x,y] pixel coordinates used as the center. The default is \n",
    "             None, which then uses the center of the image (including \n",
    "             fracitonal pixels).\n",
    "    \n",
    "    \"\"\"\n",
    "    # Calculate the indices from the image\n",
    "    y, x = np.indices(image.shape)\n",
    "\n",
    "    if not center:\n",
    "        center = np.array([(x.max()-x.min())/2.0, (x.max()-x.min())/2.0])\n",
    "\n",
    "    r = np.hypot(x - center[0], y - center[1])\n",
    "\n",
    "    # Get sorted radii\n",
    "    ind = np.argsort(r.flat)\n",
    "    r_sorted = r.flat[ind]\n",
    "    i_sorted = image.flat[ind]\n",
    "\n",
    "    # Get the integer part of the radii (bin size = 1)\n",
    "    r_int = r_sorted.astype(int)\n",
    "\n",
    "    # Find all pixels that fall within each radial bin.\n",
    "    deltar = r_int[1:] - r_int[:-1]  # Assumes all radii represented\n",
    "    rind = np.where(deltar)[0]       # location of changed radius\n",
    "    nr = rind[1:] - rind[:-1]        # number of radius bin\n",
    "    \n",
    "    # Cumulative sum to figure out sums for each radius bin\n",
    "    csim = np.cumsum(i_sorted, dtype=float)\n",
    "    tbin = csim[rind[1:]] - csim[rind[:-1]]\n",
    "\n",
    "    radial_prof = tbin / nr\n",
    "\n",
    "    return radial_prof"
   ]
  },
  {
   "cell_type": "code",
   "execution_count": null,
   "metadata": {},
   "outputs": [],
   "source": [
    "from scipy import fftpack\n",
    "import numpy as np\n",
    "import pylab as py\n",
    "#import radialProfile\n",
    "\n",
    "def image_ps(image):\n",
    "  \n",
    "    # Take the fourier transform of the image.\n",
    "    F1 = fftpack.fft2(image)\n",
    "\n",
    "    # Now shift the quadrants around so that low spatial frequencies are in\n",
    "    # the center of the 2D fourier transformed image.\n",
    "    F2 = fftpack.fftshift( F1 )\n",
    "\n",
    "    # Calculate a 2D power spectrum\n",
    "    psd2D = np.abs( F2 )**2\n",
    "\n",
    "    # Calculate the azimuthally averaged 1D power spectrum\n",
    "    psd1D = azimuthalAverage(psd2D)\n",
    "\n",
    "    return psd1D"
   ]
  },
  {
   "cell_type": "code",
   "execution_count": null,
   "metadata": {},
   "outputs": [],
   "source": [
    "attacked_ps = np.zeros((target_X.shape[0], 179))\n",
    "normal_ps = np.zeros((target_X.shape[0], 179))\n",
    "target_ps = np.zeros((target_X.shape[0], 179))\n",
    "diff_ps = np.zeros((target_X.shape[0], 179))\n",
    "diff2_ps = np.zeros((target_X.shape[0], 179))\n",
    "\n",
    "n_samples = 10\n",
    "true_samples_all = np.zeros((target_X.shape[0]*n_samples, 2))\n",
    "attacked_samples_all = np.zeros_like(true_samples_all)\n",
    "\n",
    "\n",
    "for n in range(target_X.shape[0]):\n",
    "    print n,\n",
    "    X_attacked = compute_attacked_map(model_init_fn, cost_fn, network_fname,\\\n",
    "                            test_X[n].reshape(1, X.shape[1], X.shape[2], X.shape[3])\\\n",
    "                        , target_Y, n_steps = n_steps, training=training, adv = adv)\n",
    "    \n",
    "    true_samples_all[n*n_samples:(n+1)*n_samples] = test(model_init_fn, test_X[n].reshape(1, X.shape[1], X.shape[2], X.shape[3]), \\\n",
    "                                                         network_fname,  n_samples, training, adv=adv)\n",
    "    attacked_samples_all[n*n_samples:(n+1)*n_samples] = test(model_init_fn, X_attacked, network_fname,  n_samples, training, adv=adv)\n",
    "    \n",
    "    attacked_ps[n] = image_ps(X_attacked.squeeze())\n",
    "    target_ps[n] = image_ps(target_X[n].squeeze())\n",
    "\n",
    "    normal_ps[n] = image_ps(test_X[n].squeeze())\n",
    "    diff_ps[n] = image_ps( (X_attacked - test_X[n]).squeeze())\n",
    "    diff2_ps[n] = image_ps( (X_attacked - target_X[n]).squeeze())"
   ]
  },
  {
   "cell_type": "code",
   "execution_count": null,
   "metadata": {},
   "outputs": [],
   "source": [
    "attacked_ps.shape"
   ]
  },
  {
   "cell_type": "raw",
   "metadata": {},
   "source": [
    "plt.errorbar(range(179), attacked_ps.mean(axis = 0), yerr=attacked_ps.std(axis=0) )\n",
    "plt.errorbar(range(179), normal_ps.mean(axis = 0), yerr = normal_ps.std(axis=0))\n",
    "plt.errorbar(range(179), diff_ps.mean(axis = 0), yerr = diff_ps.std(axis=0))\n",
    "\n",
    "plt.loglog();"
   ]
  },
  {
   "cell_type": "code",
   "execution_count": null,
   "metadata": {},
   "outputs": [],
   "source": [
    "fig = plt.figure(figsize = (8, 12))\n",
    "plt.subplot(211)\n",
    "plt.errorbar(range(179), attacked_ps.mean(axis = 0), yerr=attacked_ps.std(axis=0) )\n",
    "plt.errorbar(range(179), normal_ps.mean(axis = 0), yerr = normal_ps.std(axis=0))\n",
    "plt.errorbar(range(179), diff_ps.mean(axis = 0), yerr = diff_ps.std(axis=0))\n",
    "plt.legend(loc='best')\n",
    "plt.loglog();\n",
    "plt.subplot(212)\n",
    "plt.title(\"Attacked/Normal\")\n",
    "plt.plot(attacked_ps.mean(axis=0)/normal_ps.mean(axis=0))\n",
    "plt.ylim([0.4, 6])\n",
    "plt.loglog()"
   ]
  },
  {
   "cell_type": "code",
   "execution_count": null,
   "metadata": {},
   "outputs": [],
   "source": [
    "fig = plt.figure(figsize = (8, 12))\n",
    "plt.subplot(211)\n",
    "plt.errorbar(range(179), attacked_ps.mean(axis = 0), yerr=attacked_ps.std(axis=0), label = 'Attacked' )\n",
    "plt.errorbar(range(179), target_ps.mean(axis = 0), yerr = target_ps.std(axis=0), label = 'Target')\n",
    "plt.errorbar(range(179), normal_ps.mean(axis = 0), yerr = normal_ps.std(axis=0), label = 'Original')\n",
    "plt.legend(loc='best')\n",
    "plt.loglog();\n",
    "plt.subplot(212)\n",
    "plt.title(\"Attacked/Normal\")\n",
    "plt.plot(attacked_ps.mean(axis=0)/normal_ps.mean(axis=0))\n",
    "plt.plot(target_ps.mean(axis=0)/normal_ps.mean(axis=0))\n",
    "\n",
    "plt.ylim([0.4, 6])\n",
    "plt.loglog()"
   ]
  },
  {
   "cell_type": "code",
   "execution_count": null,
   "metadata": {},
   "outputs": [],
   "source": [
    "fig = plt.figure(figsize = (8, 12))\n",
    "plt.subplot(211)\n",
    "plt.plot(attacked_ps.mean(axis = 0), label = 'Attacked' )\n",
    "plt.plot(target_ps.mean(axis = 0), label = 'Target')\n",
    "plt.plot(normal_ps.mean(axis = 0), label = 'Original')\n",
    "plt.legend(loc='best')\n",
    "plt.loglog();\n",
    "plt.subplot(212)\n",
    "plt.title(\"Attacked/Normal\")\n",
    "plt.plot(attacked_ps.mean(axis=0)/normal_ps.mean(axis=0), label = 'Attacked')\n",
    "plt.plot(target_ps.mean(axis=0)/normal_ps.mean(axis=0), label = 'Target')\n",
    "plt.legend(loc='best')\n",
    "plt.ylim([0.4, 6])\n",
    "plt.loglog()"
   ]
  },
  {
   "cell_type": "code",
   "execution_count": null,
   "metadata": {},
   "outputs": [],
   "source": [
    "ty = target_boxno\n",
    "np.savetxt('attacked_ps_boxno_%d_ty_%d_net_%s.npy'%(boxno, ty, net), attacked_ps)\n",
    "np.savetxt('normal_ps_boxno_%d_ty_%d_net_%s.npy'%(boxno, ty, net), normal_ps)\n",
    "np.savetxt('diff_ps_boxno_%d_ty_%d_net_%s.npy'%(boxno, ty, net), diff_ps)\n",
    "np.savetxt('target_ps_boxno_%d_ty_%d_net_%s.npy'%(boxno, ty, net), target_ps)"
   ]
  },
  {
   "cell_type": "code",
   "execution_count": null,
   "metadata": {},
   "outputs": [],
   "source": [
    "%%bash\n",
    "ls attacked*.npy -ltr"
   ]
  },
  {
   "cell_type": "code",
   "execution_count": null,
   "metadata": {},
   "outputs": [],
   "source": []
  }
 ],
 "metadata": {
  "kernelspec": {
   "display_name": "Python 2",
   "language": "python",
   "name": "python2"
  },
  "language_info": {
   "codemirror_mode": {
    "name": "ipython",
    "version": 2
   },
   "file_extension": ".py",
   "mimetype": "text/x-python",
   "name": "python",
   "nbconvert_exporter": "python",
   "pygments_lexer": "ipython2",
   "version": "2.7.15+"
  }
 },
 "nbformat": 4,
 "nbformat_minor": 2
}
