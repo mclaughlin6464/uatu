{
 "cells": [
  {
   "cell_type": "code",
   "execution_count": 1,
   "metadata": {},
   "outputs": [],
   "source": [
    "from nbodykit.source.catalog import CSVCatalog\n",
    "from nbodykit.algorithms.paircount_tpcf.tpcf import SimulationBox2PCF\n",
    "from nbodykit.cosmology.correlation import CorrelationFunction\n",
    "from nbodykit.cosmology.power.halofit import HalofitPower\n",
    "from nbodykit.cosmology import Cosmology\n",
    "import emcee as mc\n",
    "\n",
    "\n"
   ]
  },
  {
   "cell_type": "code",
   "execution_count": null,
   "metadata": {},
   "outputs": [],
   "source": [
    "def compute_xi_from_box(bins, boxdir):\n",
    "    names  = ['x', 'y','z','vx','vy','vz']\n",
    "    f = CSVCatalog(path.join(boxdir, 'uatu_z0p000.0'), names)\n",
    "\n",
    "    downsample_idxs = np.random.choice(f['x'].shape[0], int(1e-1*f['x'].shape[0]), replace = False)\n",
    "    d_idxs = np.zeros((f['x'].shape[0],))\n",
    "    d_idxs[downsample_idxs] = 1\n",
    "    f = f[d_idxs.astype(bool)]\n",
    "    f['Position'] = np.c_[f['x'], f['y'], f['z']]\n",
    "    s = SimulationBox2PCF('1d', f, bins, BoxSize = 512.0, show_progress = True)\n",
    "\n",
    "    return np.array([x[0] for x in s.corr.data])"
   ]
  },
  {
   "cell_type": "code",
   "execution_count": null,
   "metadata": {},
   "outputs": [],
   "source": [
    "def lnliklihood(theta, bins, obs_xi, invcov):\n",
    "\n",
    "    Om, s8 = theta\n",
    "    Ob = 0.022/(0.7**2)\n",
    "    Ocdm = Om - Ob\n",
    "    cosmo = Cosmology(h=0.7, T0_cmb=2.726,\n",
    "                      Omega_b = 0.022,\n",
    "                      Omega0_cdm=Ocdm,\n",
    "                      P_k_max = 100.0,\n",
    "                      n_s=0.96).match(s8)\n",
    "    bc = (bins[1:] + bins[:-1])/2.0\n",
    "    predicted_xi = CorrelationFunction(HalofitPower(cosmo, 0.0))(bc)\n",
    "    delta =  predicted_xi - obs_xi\n",
    "    return -0.5*np.sum(np.dot(delta, np.dot(invcov, delta)))\n"
   ]
  }
 ],
 "metadata": {
  "kernelspec": {
   "display_name": "Python 2",
   "language": "python",
   "name": "python2"
  },
  "language_info": {
   "codemirror_mode": {
    "name": "ipython",
    "version": 2
   },
   "file_extension": ".py",
   "mimetype": "text/x-python",
   "name": "python",
   "nbconvert_exporter": "python",
   "pygments_lexer": "ipython2",
   "version": "2.7.12"
  }
 },
 "nbformat": 4,
 "nbformat_minor": 2
}
