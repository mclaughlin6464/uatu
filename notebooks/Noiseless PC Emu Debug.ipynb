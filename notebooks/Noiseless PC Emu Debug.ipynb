{
 "cells": [
  {
   "cell_type": "markdown",
   "metadata": {},
   "source": [
    "The noiseless PC emu keeps giving off errors, I want to see if I can figure out why. "
   ]
  },
  {
   "cell_type": "code",
   "execution_count": 31,
   "metadata": {
    "collapsed": true
   },
   "outputs": [],
   "source": [
    "from matplotlib import pyplot as plt\n",
    "%matplotlib inline\n",
    "import seaborn as sns\n",
    "sns.set()"
   ]
  },
  {
   "cell_type": "code",
   "execution_count": 32,
   "metadata": {
    "collapsed": true
   },
   "outputs": [],
   "source": [
    "import numpy as np\n",
    "from GPy.models import GPKroneckerGaussianRegression\n",
    "from GPy.kern import *\n",
    "from itertools import izip\n",
    "import h5py\n",
    "from scipy.linalg import inv"
   ]
  },
  {
   "cell_type": "code",
   "execution_count": 35,
   "metadata": {},
   "outputs": [],
   "source": [
    "training_pc = np.load('../bin/emu/training_pc.npy')\n",
    "training_cov = np.load('../bin/emu/training_cov.npy')\n",
    "#training_err = np.sqrt(np.diag(training_cov))\n",
    "\n",
    "test_pc = np.load('../bin/emu/test_pc.npy')\n",
    "test_cov = np.load('../bin/emu/test_cov.npy')\n"
   ]
  },
  {
   "cell_type": "code",
   "execution_count": 36,
   "metadata": {},
   "outputs": [
    {
     "data": {
      "text/plain": [
       "(200, 40)"
      ]
     },
     "execution_count": 36,
     "metadata": {},
     "output_type": "execute_result"
    }
   ],
   "source": [
    "training_pc.shape"
   ]
  },
  {
   "cell_type": "code",
   "execution_count": 37,
   "metadata": {
    "collapsed": true
   },
   "outputs": [],
   "source": [
    "thresholds = np.linspace(-0.01, 0.04, 41)\n",
    "nu = ((thresholds[1:] + thresholds[:-1]) / 2.0).reshape((-1, 1))"
   ]
  },
  {
   "cell_type": "code",
   "execution_count": 38,
   "metadata": {},
   "outputs": [
    {
     "data": {
      "image/png": "[encoded data removed]",
      "text/plain": [
       "<matplotlib.figure.Figure at 0x7f3b8bc31b50>"
      ]
     },
     "metadata": {},
     "output_type": "display_data"
    }
   ],
   "source": [
    "plt.plot(nu, training_pc[0]);\n",
    "plt.yscale('log')"
   ]
  },
  {
   "cell_type": "code",
   "execution_count": 39,
   "metadata": {
    "collapsed": true
   },
   "outputs": [],
   "source": [
    "cov = test_cov[0]"
   ]
  },
  {
   "cell_type": "code",
   "execution_count": 40,
   "metadata": {},
   "outputs": [
    {
     "data": {
      "text/plain": [
       "array([[  4.61468082e-06,  -5.72861098e-08,   5.16682296e-08, ...,\n",
       "          4.79621208e-07,   8.87168119e-07,  -3.26135150e-07],\n",
       "       [ -5.72861098e-08,   1.89975199e-06,  -5.86193653e-08, ...,\n",
       "         -2.80635386e-07,  -4.93134263e-07,   8.19503520e-07],\n",
       "       [  5.16682296e-08,  -5.86193653e-08,   8.02235325e-07, ...,\n",
       "         -3.92734093e-07,   1.03837405e-07,   1.55029626e-07],\n",
       "       ..., \n",
       "       [  4.79621208e-07,  -2.80635386e-07,  -3.92734093e-07, ...,\n",
       "          1.00314639e-04,   1.87782602e-06,   1.58264238e-06],\n",
       "       [  8.87168119e-07,  -4.93134263e-07,   1.03837405e-07, ...,\n",
       "          1.87782602e-06,   1.31034441e-04,   1.38928341e-06],\n",
       "       [ -3.26135150e-07,   8.19503520e-07,   1.55029626e-07, ...,\n",
       "          1.58264238e-06,   1.38928341e-06,   1.92557379e-04]])"
      ]
     },
     "execution_count": 40,
     "metadata": {},
     "output_type": "execute_result"
    }
   ],
   "source": [
    "inv(cov+np.diag(np.ones(cov.shape[0]))*1e-12)"
   ]
  },
  {
   "cell_type": "code",
   "execution_count": 41,
   "metadata": {},
   "outputs": [
    {
     "data": {
      "text/plain": [
       "array([ 2.71424695,  3.09926276,  3.41866949,  3.71667303,  3.98522127,\n",
       "        4.22731526,  4.43715333,  4.62355556,  4.78215842,  4.91622317,\n",
       "        5.02447807,  5.10920761,  5.16984309,  5.20853591,  5.22225872,\n",
       "        5.21544988,  5.18781134,  5.1428489 ,  5.07880353,  4.99783116,\n",
       "        4.90081876,  4.78829497,  4.66792544,  4.52598009,  4.37849884,\n",
       "        4.22856827,  4.07267644,  3.91410799,  3.75370597,  3.58532144,\n",
       "        3.42586819,  3.26731661,  3.10223885,  2.99024016,  2.83108733,\n",
       "        2.72850408,  2.58497303,  2.41989458,  2.34919356,  2.22981768])"
      ]
     },
     "execution_count": 41,
     "metadata": {},
     "output_type": "execute_result"
    }
   ],
   "source": [
    "training_pc[training_pc==0]=1e-3\n",
    "np.log10(training_pc[0])"
   ]
  },
  {
   "cell_type": "raw",
   "metadata": {
    "collapsed": true
   },
   "source": [
    "emu = GPKroneckerGaussianRegression(train_cosmos, nu, np.log10(training_pc), kern1,\n",
    "                                       kern2) "
   ]
  },
  {
   "cell_type": "code",
   "execution_count": 42,
   "metadata": {
    "collapsed": true
   },
   "outputs": [],
   "source": [
    "fill_val = 1e-3\n",
    "training_pc[training_pc==0.0]=fill_val# make loggable\n",
    "test_pc[test_pc==0.0]=fill_val\n",
    "\n",
    "training_filename = '/home/users/swmclau2/oak/Uatu/UatuFastPMTraining/UatuFastPMTraining.hdf5'\n",
    "test_filename = '/home/users/swmclau2/oak/Uatu/UatuFastPMTest/UatuFastPMTest.hdf5'\n",
    "\n",
    "train_cosmos = np.zeros((training_pc.shape[0], 2))\n",
    "test_cosmos = np.zeros((test_pc.shape[0], 2))\n",
    "\n",
    "with h5py.File(training_filename, 'r') as f:\n",
    "    for i, key in enumerate(f.keys()):\n",
    "        train_cosmos[i] = f[key]['Y'][0].squeeze()\n",
    "\n",
    "with h5py.File(test_filename, 'r') as f:\n",
    "    for i, key in enumerate(f.keys()):\n",
    "        test_cosmos[i] = f[key]['Y'][0].squeeze()\n"
   ]
  },
  {
   "cell_type": "code",
   "execution_count": 43,
   "metadata": {},
   "outputs": [],
   "source": [
    "mean_cosmo = test_cosmos.mean(axis=0)\n",
    "\n",
    "#test_idx = np.argmin(np.sum((test_cosmos-mean_cosmo)**2, axis=1), axis = 0)\n",
    "test_idx = int(23)\n",
    "y = test_pc[test_idx]\n",
    "cov = test_cov[test_idx]\n",
    "cov+=np.diag(np.ones(cov.shape[0]))*1e-2 # stablize "
   ]
  },
  {
   "cell_type": "code",
   "execution_count": 44,
   "metadata": {
    "collapsed": true
   },
   "outputs": [],
   "source": [
    "# set prior bounds\n",
    "global MIN_OM, MIN_S8, MAX_S8, MAX_OM\n",
    "MIN_OM, MIN_S8 = train_cosmos.min(axis=0)\n",
    "MAX_OM, MAX_S8 = train_cosmos.max(axis=0)"
   ]
  },
  {
   "cell_type": "code",
   "execution_count": 45,
   "metadata": {
    "collapsed": true
   },
   "outputs": [],
   "source": [
    "thresholds = np.linspace(-0.01, 0.04, 41)\n",
    "nu = ((thresholds[1:] + thresholds[:-1]) / 2.0).reshape((-1, 1))\n",
    "\n",
    "kern1 = RBF(2, ARD=True)+Bias(2)\n",
    "kern2 = RBF(1, ARD=True)+Bias(1)"
   ]
  },
  {
   "cell_type": "code",
   "execution_count": 46,
   "metadata": {},
   "outputs": [
    {
     "name": "stdout",
     "output_type": "stream",
     "text": [
      "Optimization restart 1/3, f = -19043.9018678\n",
      "Optimization restart 2/3, f = -12848.0403657\n",
      "Optimization restart 3/3, f = -12848.0403671\n"
     ]
    }
   ],
   "source": [
    "#global emu\n",
    "emu = GPKroneckerGaussianRegression(train_cosmos, nu, np.log10(training_pc), kern1,\n",
    "                                   kern2)  # , Yerr=np.log10(training_err))\n",
    "emu.optimize_restarts(num_restarts=3, verbose = True);"
   ]
  },
  {
   "cell_type": "raw",
   "metadata": {},
   "source": [
    "import cPickle as pickle\n",
    "kerns = [emu.kern0.to_dict(), emu.kern1.to_dict()]\n",
    "with open('/home/users/swmclau2/Git/uatu/bin/emu/noisy_emu_kern.pkl', 'w') as f:\n",
    "    pickle.dump(kerns,f )"
   ]
  },
  {
   "cell_type": "code",
   "execution_count": 48,
   "metadata": {
    "collapsed": true
   },
   "outputs": [],
   "source": [
    "def lnlike(theta, nu, y, inv_cov):\n",
    "    \"\"\"\n",
    "    :param theta:\n",
    "        Proposed parameters.\n",
    "    :param param_names:\n",
    "        The names of the parameters in theta\n",
    "    :param fixed_params:\n",
    "        Dictionary of parameters necessary to predict y_bar but are not being sampled over.\n",
    "    :param r_bin_centers:\n",
    "        The centers of the r bins y is measured in, angular or radial.\n",
    "    :param ys:\n",
    "        The measured values of the observables to compare to the emulators. Must be an interable that contains\n",
    "        predictions of each observable.\n",
    "    :param combined_inv_cov:\n",
    "        The inverse covariance matrices. Explicitly, the inverse of the sum of the mesurement covaraince matrix\n",
    "        and the matrix from the emulator, both for each observable. Both are independent of emulator parameters,\n",
    "         so can be precomputed. Must be an iterable with a matrixfor each observable.\n",
    "    :return:\n",
    "        The log liklihood of theta given the measurements and the emulator.\n",
    "    \"\"\"\n",
    "\n",
    "    emu_pred = 10 ** emu.predict(theta.reshape((1,-1)),nu, mean_only=True)[0].squeeze()\n",
    "    delta = emu_pred - y\n",
    "    chi2 = -np.dot(delta, np.dot(inv_cov, delta))\n",
    "    return -np.dot(delta, np.dot(inv_cov, delta))\n"
   ]
  },
  {
   "cell_type": "code",
   "execution_count": 49,
   "metadata": {},
   "outputs": [
    {
     "data": {
      "text/plain": [
       "-16.356166807625211"
      ]
     },
     "execution_count": 49,
     "metadata": {},
     "output_type": "execute_result"
    }
   ],
   "source": [
    "lnlike(np.array([0.3, 0.8]), nu, y, inv(cov))"
   ]
  },
  {
   "cell_type": "code",
   "execution_count": 56,
   "metadata": {},
   "outputs": [
    {
     "data": {
      "image/png": "[encoded data removed]",
      "text/plain": [
       "<matplotlib.figure.Figure at 0x7f3b8ba93850>"
      ]
     },
     "metadata": {},
     "output_type": "display_data"
    }
   ],
   "source": [
    "plt.errorbar(nu, y, yerr = np.sqrt(np.diag(cov)))\n",
    "theta = np.array([0.3, 0.8])\n",
    "emu_pred = 10 ** emu.predict(theta.reshape((1,-1)),nu, mean_only=True)[0].squeeze()\n",
    "\n",
    "plt.plot(nu, emu_pred)\n",
    "plt.yscale('log')"
   ]
  },
  {
   "cell_type": "code",
   "execution_count": 51,
   "metadata": {},
   "outputs": [
    {
     "name": "stdout",
     "output_type": "stream",
     "text": [
      "[  3.70984328e+05   8.01311798e+05   1.99230546e+06   4.24003395e+06\n",
      "   8.04111389e+06   1.67160223e+07   2.96817408e+07   4.88713201e+07\n",
      "   7.35153893e+07   1.05893560e+08   1.30937297e+08   1.59219137e+08\n",
      "   1.60591389e+08   1.48006766e+08   1.50939712e+08   1.34954118e+08\n",
      "   1.27964139e+08   1.29116234e+08   1.17349258e+08   1.04979274e+08\n",
      "   9.50443468e+07   7.19141069e+07   5.68237720e+07   4.26711691e+07\n",
      "   2.68575410e+07   1.68176584e+07   1.08011585e+07   7.34426618e+06\n",
      "   4.42229621e+06   2.57973022e+06   1.81672264e+06   1.16281768e+06\n",
      "   7.72942095e+05   5.21984471e+05   3.42916260e+05   2.14431584e+05\n",
      "   1.56096297e+05   1.37386539e+05   9.24169984e+04   6.19530106e+04]\n"
     ]
    }
   ],
   "source": [
    "print np.diag(cov)"
   ]
  },
  {
   "cell_type": "code",
   "execution_count": null,
   "metadata": {
    "collapsed": true
   },
   "outputs": [],
   "source": []
  }
 ],
 "metadata": {
  "kernelspec": {
   "display_name": "Python 2",
   "language": "python",
   "name": "python2"
  },
  "language_info": {
   "codemirror_mode": {
    "name": "ipython",
    "version": 2
   },
   "file_extension": ".py",
   "mimetype": "text/x-python",
   "name": "python",
   "nbconvert_exporter": "python",
   "pygments_lexer": "ipython2",
   "version": "2.7.13"
  }
 },
 "nbformat": 4,
 "nbformat_minor": 2
}
