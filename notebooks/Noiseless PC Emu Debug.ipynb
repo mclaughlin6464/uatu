{
 "cells": [
  {
   "cell_type": "markdown",
   "metadata": {},
   "source": [
    "The noiseless PC emu keeps giving off errors, I want to see if I can figure out why. "
   ]
  },
  {
   "cell_type": "code",
   "execution_count": 1,
   "metadata": {
    "collapsed": true
   },
   "outputs": [],
   "source": [
    "from matplotlib import pyplot as plt\n",
    "%matplotlib inline\n",
    "import seaborn as sns\n",
    "sns.set()"
   ]
  },
  {
   "cell_type": "code",
   "execution_count": 2,
   "metadata": {
    "collapsed": true
   },
   "outputs": [],
   "source": [
    "import numpy as np\n",
    "from GPy.models import GPKroneckerGaussianRegression\n",
    "from GPy.kern import *\n",
    "from itertools import izip\n",
    "import h5py\n",
    "from scipy.linalg import inv"
   ]
  },
  {
   "cell_type": "code",
   "execution_count": 3,
   "metadata": {
    "collapsed": true
   },
   "outputs": [],
   "source": [
    "smooth = 1"
   ]
  },
  {
   "cell_type": "code",
   "execution_count": 4,
   "metadata": {
    "collapsed": true
   },
   "outputs": [],
   "source": [
    "training_pc = np.load('../bin/emu/peak_counts/training_pc_smooth_%d.npy'%smooth)\n",
    "training_cov = np.load('../bin/emu/peak_counts/training_cov_smooth_%d.npy'%smooth)\n",
    "#training_err = np.sqrt(np.diag(training_cov))\n",
    "\n",
    "test_pc = np.load('../bin/emu/peak_counts/test_pc_smooth_%d.npy'%smooth)\n",
    "test_cov = np.load('../bin/emu/peak_counts/test_cov_smooth_%d.npy'%smooth)\n"
   ]
  },
  {
   "cell_type": "code",
   "execution_count": 5,
   "metadata": {},
   "outputs": [
    {
     "data": {
      "text/plain": [
       "(200, 40)"
      ]
     },
     "execution_count": 5,
     "metadata": {},
     "output_type": "execute_result"
    }
   ],
   "source": [
    "training_pc.shape"
   ]
  },
  {
   "cell_type": "code",
   "execution_count": 6,
   "metadata": {
    "collapsed": true
   },
   "outputs": [],
   "source": [
    "thresholds = np.linspace(-0.01, 0.04, 41)\n",
    "nu = ((thresholds[1:] + thresholds[:-1]) / 2.0).reshape((-1, 1))"
   ]
  },
  {
   "cell_type": "code",
   "execution_count": 7,
   "metadata": {},
   "outputs": [
    {
     "data": {
      "image/png": "[encoded data removed]",
      "text/plain": [
       "<matplotlib.figure.Figure at 0x7ffb5e7377d0>"
      ]
     },
     "metadata": {},
     "output_type": "display_data"
    }
   ],
   "source": [
    "plt.plot(nu, training_pc[0]);\n",
    "plt.yscale('log')"
   ]
  },
  {
   "cell_type": "code",
   "execution_count": null,
   "metadata": {
    "collapsed": true
   },
   "outputs": [],
   "source": []
  },
  {
   "cell_type": "code",
   "execution_count": 8,
   "metadata": {},
   "outputs": [],
   "source": [
    "fill_val = 1e-2\n",
    "training_pc[training_pc==0.0]=fill_val# make loggable\n",
    "test_pc[test_pc==0.0]=fill_val\n",
    "\n",
    "#training_cov[training_cov<fill_val] =fill_val\n",
    "#test_cov[test_cov<fill_val] =fill_val\n",
    "\n",
    "training_filename = '/home/users/swmclau2/oak/Uatu/UatuFastPMTraining/UatuFastPMTraining.hdf5'\n",
    "test_filename = '/home/users/swmclau2/oak/Uatu/UatuFastPMTest/UatuFastPMTest.hdf5'\n",
    "\n",
    "train_cosmos = np.zeros((training_pc.shape[0], 2))\n",
    "test_cosmos = np.zeros((test_pc.shape[0], 2))\n",
    "\n",
    "with h5py.File(training_filename, 'r') as f:\n",
    "    for i, key in enumerate(f.keys()):\n",
    "        train_cosmos[i] = f[key]['Y'][0].squeeze()\n",
    "\n",
    "with h5py.File(test_filename, 'r') as f:\n",
    "    for i, key in enumerate(f.keys()):\n",
    "        test_cosmos[i] = f[key]['Y'][0].squeeze()\n"
   ]
  },
  {
   "cell_type": "code",
   "execution_count": 9,
   "metadata": {
    "collapsed": true
   },
   "outputs": [],
   "source": [
    "mean_cosmo = test_cosmos.mean(axis=0)\n",
    "\n",
    "#test_idx = np.argmin(np.sum((test_cosmos-mean_cosmo)**2, axis=1), axis = 0)\n",
    "test_idx = int(23)\n",
    "y = test_pc[test_idx]\n",
    "cov = test_cov[test_idx]\n",
    "cov+=np.diag(np.ones(cov.shape[0]))*1e-12 # stablize "
   ]
  },
  {
   "cell_type": "code",
   "execution_count": 10,
   "metadata": {
    "collapsed": true
   },
   "outputs": [],
   "source": [
    "# set prior bounds\n",
    "global MIN_OM, MIN_S8, MAX_S8, MAX_OM\n",
    "MIN_OM, MIN_S8 = train_cosmos.min(axis=0)\n",
    "MAX_OM, MAX_S8 = train_cosmos.max(axis=0)"
   ]
  },
  {
   "cell_type": "code",
   "execution_count": 11,
   "metadata": {
    "collapsed": true
   },
   "outputs": [],
   "source": [
    "thresholds = np.linspace(-0.01, 0.04, 41)\n",
    "nu = ((thresholds[1:] + thresholds[:-1]) / 2.0).reshape((-1, 1))\n",
    "\n",
    "kern1 = RBF(2, ARD=True)+Matern32(2, ARD=True)+Bias(2)\n",
    "kern2 = RBF(1, ARD=True)#+Bias(1)"
   ]
  },
  {
   "cell_type": "code",
   "execution_count": 12,
   "metadata": {
    "collapsed": true
   },
   "outputs": [],
   "source": [
    "training_err = np.sqrt(np.diag(cov))"
   ]
  },
  {
   "cell_type": "code",
   "execution_count": 13,
   "metadata": {},
   "outputs": [
    {
     "data": {
      "text/plain": [
       "(200, 40)"
      ]
     },
     "execution_count": 13,
     "metadata": {},
     "output_type": "execute_result"
    }
   ],
   "source": [
    "training_pc.shape"
   ]
  },
  {
   "cell_type": "code",
   "execution_count": 14,
   "metadata": {
    "collapsed": true
   },
   "outputs": [],
   "source": [
    "training_err = np.stack(np.sqrt(np.diag(c)) for c in training_cov)"
   ]
  },
  {
   "cell_type": "code",
   "execution_count": 15,
   "metadata": {},
   "outputs": [],
   "source": [
    "training_err[training_err==0] = 100#np.min(training_err[training_err>0])"
   ]
  },
  {
   "cell_type": "code",
   "execution_count": 16,
   "metadata": {},
   "outputs": [
    {
     "data": {
      "text/plain": [
       "22.22222222222215"
      ]
     },
     "execution_count": 16,
     "metadata": {},
     "output_type": "execute_result"
    }
   ],
   "source": [
    "training_err.min()"
   ]
  },
  {
   "cell_type": "code",
   "execution_count": 28,
   "metadata": {},
   "outputs": [
    {
     "name": "stdout",
     "output_type": "stream",
     "text": [
      "Optimization restart 1/3, f = -7729.16514531\n",
      "Optimization restart 2/3, f = -3079.96130826\n",
      "Optimization restart 3/3, f = -7729.56799857\n"
     ]
    }
   ],
   "source": [
    "#global emu\n",
    "emu = GPKroneckerGaussianRegression(train_cosmos, nu, np.log10(training_pc), kern1,\n",
    "                                   kern2)# , Yerr=np.log10(training_err))\n",
    "emu.optimize_restarts( num_restarts=3, verbose = True, robust=True);"
   ]
  },
  {
   "cell_type": "code",
   "execution_count": 29,
   "metadata": {
    "collapsed": true
   },
   "outputs": [],
   "source": [
    "import cPickle as pickle\n",
    "kerns = [emu.kern0.to_dict(), emu.kern1.to_dict(), emu.Gaussian_noise.variance.values[0]]\n",
    "with open('/home/users/swmclau2/Git/uatu/bin/emu/peak_counts/noisy_emu_kern.pkl', 'w') as f:\n",
    "    pickle.dump(kerns,f )"
   ]
  },
  {
   "cell_type": "code",
   "execution_count": 30,
   "metadata": {},
   "outputs": [
    {
     "data": {
      "text/plain": [
       "0.0056723770980201087"
      ]
     },
     "execution_count": 30,
     "metadata": {},
     "output_type": "execute_result"
    }
   ],
   "source": [
    "emu.Gaussian_noise.variance.values[0]"
   ]
  },
  {
   "cell_type": "code",
   "execution_count": 31,
   "metadata": {
    "collapsed": true
   },
   "outputs": [],
   "source": [
    "def lnlike(theta, nu, y, inv_cov):\n",
    "    \"\"\"\n",
    "    :param theta:\n",
    "        Proposed parameters.\n",
    "    :param param_names:\n",
    "        The names of the parameters in theta\n",
    "    :param fixed_params:\n",
    "        Dictionary of parameters necessary to predict y_bar but are not being sampled over.\n",
    "    :param r_bin_centers:\n",
    "        The centers of the r bins y is measured in, angular or radial.\n",
    "    :param ys:\n",
    "        The measured values of the observables to compare to the emulators. Must be an interable that contains\n",
    "        predictions of each observable.\n",
    "    :param combined_inv_cov:\n",
    "        The inverse covariance matrices. Explicitly, the inverse of the sum of the mesurement covaraince matrix\n",
    "        and the matrix from the emulator, both for each observable. Both are independent of emulator parameters,\n",
    "         so can be precomputed. Must be an iterable with a matrixfor each observable.\n",
    "    :return:\n",
    "        The log liklihood of theta given the measurements and the emulator.\n",
    "    \"\"\"\n",
    "\n",
    "    emu_pred = 10 ** emu.predict(theta.reshape((1,-1)),nu, mean_only=True)[0].squeeze()\n",
    "    delta = emu_pred - y\n",
    "    #chi2 = -np.dot(delta, np.dot(inv_cov, delta))\n",
    "    return -np.dot(delta, np.dot(inv_cov, delta))\n"
   ]
  },
  {
   "cell_type": "code",
   "execution_count": 32,
   "metadata": {},
   "outputs": [
    {
     "data": {
      "text/plain": [
       "array([ 0.279925,  0.846988])"
      ]
     },
     "execution_count": 32,
     "metadata": {},
     "output_type": "execute_result"
    }
   ],
   "source": [
    "test_cosmos[test_idx]"
   ]
  },
  {
   "cell_type": "code",
   "execution_count": 33,
   "metadata": {},
   "outputs": [
    {
     "data": {
      "text/plain": [
       "-0.14370551922366182"
      ]
     },
     "execution_count": 33,
     "metadata": {},
     "output_type": "execute_result"
    }
   ],
   "source": [
    "lnlike(test_cosmos[test_idx], nu, y, inv(cov))"
   ]
  },
  {
   "cell_type": "code",
   "execution_count": 34,
   "metadata": {},
   "outputs": [
    {
     "data": {
      "image/png": "[encoded data removed]",
      "text/plain": [
       "<matplotlib.figure.Figure at 0x7ffb5b829c10>"
      ]
     },
     "metadata": {},
     "output_type": "display_data"
    }
   ],
   "source": [
    "plt.errorbar(nu, y, yerr = np.sqrt(np.diag(cov)))\n",
    "theta = np.array([0.3, 0.8])\n",
    "emu_pred = 10 ** emu.predict(theta.reshape((1,-1)),nu, mean_only=True)[0].squeeze()\n",
    "\n",
    "plt.plot(nu, emu_pred)\n",
    "plt.yscale('log')"
   ]
  },
  {
   "cell_type": "code",
   "execution_count": 35,
   "metadata": {},
   "outputs": [
    {
     "data": {
      "text/plain": [
       "array([[ 1.70956308,  2.32323936,  2.92338476, ...,  2.04333802,\n",
       "         1.88390667,  1.91105892],\n",
       "       [ 1.11270428,  1.98360958,  2.5708023 , ...,  0.90442834,\n",
       "         0.86966623,  0.86966623],\n",
       "       [ 1.22184875,  1.9397041 ,  2.58566958, ...,  0.86966623,\n",
       "         0.69357497,  0.63558303],\n",
       "       ..., \n",
       "       [ 1.37026858,  2.08715018,  2.71217146, ...,  1.98914207,\n",
       "         1.86966623,  1.74472749],\n",
       "       [ 1.69897   ,  2.36797679,  2.87791144, ...,  1.45324282,\n",
       "         1.39254498,  1.22184875],\n",
       "       [ 1.28184668,  1.96367125,  2.59802001, ...,  1.04575749,\n",
       "         1.02093391,  0.69357497]])"
      ]
     },
     "execution_count": 35,
     "metadata": {},
     "output_type": "execute_result"
    }
   ],
   "source": [
    "emu.Y"
   ]
  },
  {
   "cell_type": "code",
   "execution_count": 36,
   "metadata": {},
   "outputs": [
    {
     "name": "stdout",
     "output_type": "stream",
     "text": [
      "[  2.52774679e+04   1.28457219e+05   4.71358978e+05   1.75936355e+06\n",
      "   5.80794699e+06   1.87066972e+07   5.37147490e+07   1.22595305e+08\n",
      "   2.20322768e+08   3.12116203e+08   3.03887784e+08   2.63423332e+08\n",
      "   2.04502440e+08   1.97070795e+08   1.99442807e+08   2.03879051e+08\n",
      "   1.82161755e+08   1.25399475e+08   8.78560282e+07   4.98085270e+07\n",
      "   2.76258792e+07   1.59238641e+07   8.73496697e+06   5.21127261e+06\n",
      "   2.93536012e+06   1.82023700e+06   1.26013976e+06   8.53220077e+05\n",
      "   6.09685114e+05   4.38966586e+05   2.88367224e+05   1.92411459e+05\n",
      "   1.55729062e+05   1.11007770e+05   9.31274131e+04   6.61045808e+04\n",
      "   5.83028743e+04   4.75889223e+04   3.07961295e+04   2.05458792e+04]\n"
     ]
    }
   ],
   "source": [
    "print np.diag(cov)"
   ]
  },
  {
   "cell_type": "code",
   "execution_count": 37,
   "metadata": {
    "collapsed": true
   },
   "outputs": [],
   "source": [
    "theta = np.array([0.3, 0.8])\n",
    "emu_pred = 10 ** emu.predict(theta.reshape((1,-1)),nu, mean_only=True)[0].squeeze()"
   ]
  },
  {
   "cell_type": "code",
   "execution_count": 38,
   "metadata": {},
   "outputs": [
    {
     "data": {
      "text/plain": [
       "array([  3.31025044e+01,   1.52210163e+02,   6.02763787e+02,\n",
       "         2.04841766e+03,   5.97640337e+03,   1.50195995e+04,\n",
       "         3.26833395e+04,   6.19587205e+04,   1.02978792e+05,\n",
       "         1.50988482e+05,   1.96441543e+05,   2.28073498e+05,\n",
       "         2.37674317e+05,   2.23724210e+05,   1.91628809e+05,\n",
       "         1.50665009e+05,   1.09858145e+05,   7.51714036e+04,\n",
       "         4.89058070e+04,   3.06752273e+04,   1.88117514e+04,\n",
       "         1.14318809e+04,   6.96786508e+03,   4.30279054e+03,\n",
       "         2.71245167e+03,   1.75402886e+03,   1.16597365e+03,\n",
       "         7.96453518e+02,   5.57740886e+02,   3.98933679e+02,\n",
       "         2.90191197e+02,   2.13760086e+02,   1.58874479e+02,\n",
       "         1.18840095e+02,   8.93546830e+01,   6.75387269e+01,\n",
       "         5.13799182e+01,   3.94183165e+01,   3.05679126e+01,\n",
       "         2.40119185e+01])"
      ]
     },
     "execution_count": 38,
     "metadata": {},
     "output_type": "execute_result"
    }
   ],
   "source": [
    "emu_pred"
   ]
  },
  {
   "cell_type": "code",
   "execution_count": null,
   "metadata": {
    "collapsed": true
   },
   "outputs": [],
   "source": []
  }
 ],
 "metadata": {
  "kernelspec": {
   "display_name": "Python 2",
   "language": "python",
   "name": "python2"
  },
  "language_info": {
   "codemirror_mode": {
    "name": "ipython",
    "version": 2
   },
   "file_extension": ".py",
   "mimetype": "text/x-python",
   "name": "python",
   "nbconvert_exporter": "python",
   "pygments_lexer": "ipython2",
   "version": "2.7.13"
  }
 },
 "nbformat": 4,
 "nbformat_minor": 2
}
