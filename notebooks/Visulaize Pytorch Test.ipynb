{
 "cells": [
  {
   "cell_type": "code",
   "execution_count": 1,
   "metadata": {
    "collapsed": true
   },
   "outputs": [],
   "source": [
    "%matplotlib inline\n",
    "from matplotlib import pyplot as plt\n",
    "\n",
    "#import seaborn as sns"
   ]
  },
  {
   "cell_type": "code",
   "execution_count": 2,
   "metadata": {
    "collapsed": true
   },
   "outputs": [],
   "source": [
    "import numpy as np\n",
    "import h5py\n",
    "\n",
    "from corner import corner\n",
    "#from getdist import plots, MCSamples\n",
    "#import getdist\n",
    "from chainconsumer import ChainConsumer\n",
    "from glob import glob"
   ]
  },
  {
   "cell_type": "raw",
   "metadata": {},
   "source": [
    "test_files = sorted(glob('/home/users/swmclau2/scratch/uatu_preds/*clone*noise_*_09_v3.hdf5'))\n",
    "#test_files = sorted(glob('../preds/gupta_net_smooth_1.0*10.hdf5'))"
   ]
  },
  {
   "cell_type": "code",
   "execution_count": 3,
   "metadata": {
    "collapsed": true
   },
   "outputs": [],
   "source": [
    "test_files = sorted(glob('/home/users/swmclau2/scratch/uatu_preds/deep_adv_clone_resnet*_09_v6.hdf5'))\n",
    "#test_files = sorted(glob('../preds/gupta_net_smooth_1.0*10.hdf5'))"
   ]
  },
  {
   "cell_type": "code",
   "execution_count": 4,
   "metadata": {},
   "outputs": [
    {
     "name": "stdout",
     "output_type": "stream",
     "text": [
      "['/home/users/swmclau2/scratch/uatu_preds/deep_adv_clone_resnet_smooth_0.0_noise_0.0_09_v6.hdf5', '/home/users/swmclau2/scratch/uatu_preds/deep_adv_clone_resnet_smooth_1.0_noise_0.3_09_v6.hdf5']\n"
     ]
    }
   ],
   "source": [
    "print test_files"
   ]
  },
  {
   "cell_type": "code",
   "execution_count": 5,
   "metadata": {
    "collapsed": true
   },
   "outputs": [],
   "source": [
    "#test_names = ['Adv. Resnet', 'Shuffled Resnet', 'Resnet', 'Gupta']\n",
    "#test_names = ['Adv. Resnet', 'Resnet', 'Gupta']\n",
    "#test_names = ['Adv' for i in xrange(2)]\n",
    "test_names = ['Clone Noisy', 'Clone Noiseless']"
   ]
  },
  {
   "cell_type": "code",
   "execution_count": 6,
   "metadata": {
    "collapsed": true
   },
   "outputs": [],
   "source": [
    "def get_outputs(test_path):\n",
    "    outputs = np.zeros((50, 2, 36**2))\n",
    "    truths = np.zeros((50, 2))\n",
    "    with h5py.File(test_path, 'r') as f:\n",
    "        for i, key in enumerate(f):\n",
    "            #print i,key\n",
    "            #print i,\n",
    "            split_key = key.split('_')\n",
    "            truths[i] = float(split_key[1]), float(split_key[3])\n",
    "            #print len(f[key].keys())\n",
    "            for j, m in enumerate(f[key].keys()):\n",
    "                #print j\n",
    "                outputs[i,:,j] = f[key][m][()]\n",
    "    sorted_idxs = np.argsort(truths[:,0])\n",
    "    return outputs[sorted_idxs], truths[sorted_idxs]"
   ]
  },
  {
   "cell_type": "raw",
   "metadata": {},
   "source": [
    "np.any(np.all(outputs==0, axis =(0,1)))"
   ]
  },
  {
   "cell_type": "code",
   "execution_count": 7,
   "metadata": {
    "collapsed": true
   },
   "outputs": [],
   "source": [
    "names = [r'$\\Omega_m$', r'$\\sigma_8$']"
   ]
  },
  {
   "cell_type": "code",
   "execution_count": 8,
   "metadata": {},
   "outputs": [
    {
     "data": {
      "image/png": "[encoded data removed]",
      "text/plain": [
       "<matplotlib.figure.Figure at 0x7f94c62d1250>"
      ]
     },
     "metadata": {},
     "output_type": "display_data"
    }
   ],
   "source": [
    "fig, axes = plt.subplots(2,1, figsize = (4,8))\n",
    "colors = ['b','g','r','m', 'y']\n",
    "for j, (tf,c) in enumerate(zip(test_files, colors)):\n",
    "    #print tf\n",
    "    outputs, truths = get_outputs(tf)\n",
    "    mean_preds = outputs.mean(axis=2)\n",
    "    std_preds = outputs.std(axis=2)\n",
    "    for i, (n, ax) in enumerate(zip(names, axes)):\n",
    "        ax.errorbar(truths[:,i], mean_preds[:,i], \\\n",
    "                    yerr = std_preds[:,i], fmt='o', color = c)\n",
    "\n",
    "for i, (n, ax) in enumerate(zip(names, axes)):\n",
    "    ax.plot(truths[:,i], truths[:,i], color ='k')\n",
    "    ax.set_xlabel('%s True'%n)\n",
    "    ax.set_ylabel('%s Pred'%n)\n",
    "#plt.tight_layout()"
   ]
  },
  {
   "cell_type": "code",
   "execution_count": 9,
   "metadata": {
    "collapsed": true
   },
   "outputs": [],
   "source": [
    "plot_idx = 1\n",
    "#print test_files[plot_idx]\n",
    "outputs, truths = get_outputs(test_files[plot_idx])"
   ]
  },
  {
   "cell_type": "code",
   "execution_count": 10,
   "metadata": {
    "collapsed": true
   },
   "outputs": [],
   "source": [
    "mean_preds = outputs.mean(axis=2)\n",
    "std_preds = outputs.std(axis=2)"
   ]
  },
  {
   "cell_type": "code",
   "execution_count": 11,
   "metadata": {},
   "outputs": [
    {
     "data": {
      "text/plain": [
       "((50, 2), (50, 2))"
      ]
     },
     "execution_count": 11,
     "metadata": {},
     "output_type": "execute_result"
    }
   ],
   "source": [
    "mean_preds.shape, std_preds.shape"
   ]
  },
  {
   "cell_type": "raw",
   "metadata": {},
   "source": [
    "fig, axes = plt.subplots(2,1, figsize = (4,8))\n",
    "for i, (n, ax) in enumerate(zip(names, axes)):\n",
    "    ax.errorbar(truths[:,i], mean_preds[:,i], yerr = std_preds[:,i], fmt='o')\n",
    "    ax.plot(truths[:,i], truths[:,i], ls = '--', alpha = 0.4)\n",
    "    ax.set_xlabel('%s True'%n)\n",
    "    ax.set_ylabel('%s Pred'%n)\n",
    "plt.tight_layout"
   ]
  },
  {
   "cell_type": "code",
   "execution_count": 12,
   "metadata": {},
   "outputs": [
    {
     "data": {
      "text/plain": [
       "<matplotlib.collections.PathCollection at 0x7f94c3f26250>"
      ]
     },
     "execution_count": 12,
     "metadata": {},
     "output_type": "execute_result"
    },
    {
     "data": {
      "image/png": "[encoded data removed]",
      "text/plain": [
       "<matplotlib.figure.Figure at 0x7f94c62b4ad0>"
      ]
     },
     "metadata": {},
     "output_type": "display_data"
    }
   ],
   "source": [
    "#fig, axes = plt.subplots(2,1, figsize = (4,8))\n",
    "#for i, (n, ax) in enumerate(zip(names, axes)):\n",
    "plt.errorbar(mean_preds[:,0], mean_preds[:,1], yerr = std_preds[:,plot_idx], fmt='o')\n",
    "plt.scatter(truths[:,0], truths[:,1], alpha = 0.4, color = 'r')\n",
    "#ax.set_xlabel('%s True'%n)\n",
    "#ax.set_ylabel('%s Pred'%n)\n",
    "#plt.tight_layout"
   ]
  },
  {
   "cell_type": "code",
   "execution_count": 13,
   "metadata": {
    "collapsed": true
   },
   "outputs": [],
   "source": [
    "def rmse(preds, truth):\n",
    "    return np.sqrt(np.mean((truth-preds.T)**2, axis =0))"
   ]
  },
  {
   "cell_type": "code",
   "execution_count": 14,
   "metadata": {},
   "outputs": [
    {
     "name": "stdout",
     "output_type": "stream",
     "text": [
      "RMSE Clone Noiseless\n"
     ]
    },
    {
     "data": {
      "text/plain": [
       "array([ 0.06360507,  0.20595517])"
      ]
     },
     "execution_count": 14,
     "metadata": {},
     "output_type": "execute_result"
    }
   ],
   "source": [
    "print 'RMSE', test_names[plot_idx]\n",
    "np.mean(np.array([rmse(outputs[i], truths[i]) for i in xrange(50)])\\\n",
    "                 , axis =0)"
   ]
  },
  {
   "cell_type": "code",
   "execution_count": 15,
   "metadata": {
    "collapsed": true
   },
   "outputs": [],
   "source": [
    "center_point = truths.mean(axis = 0)"
   ]
  },
  {
   "cell_type": "code",
   "execution_count": 16,
   "metadata": {
    "collapsed": true
   },
   "outputs": [],
   "source": [
    "closest_to_center_idx = np.argmin(np.sum((truths - center_point)**2, axis=1))"
   ]
  },
  {
   "cell_type": "code",
   "execution_count": 17,
   "metadata": {},
   "outputs": [
    {
     "name": "stdout",
     "output_type": "stream",
     "text": [
      "24 [ 0.279925  0.846988]\n"
     ]
    }
   ],
   "source": [
    "print closest_to_center_idx, truths[closest_to_center_idx]"
   ]
  },
  {
   "cell_type": "raw",
   "metadata": {},
   "source": [
    "c = ChainConsumer()\n",
    "\n",
    "for name, tf in zip(test_names, test_files):#[1:-1]:\n",
    "    outputs, _ = get_outputs(tf)\n",
    "    print outputs.shape\n",
    "    outputs = outputs[:,:,:10]\n",
    "    c.add_chain(outputs[closest_to_center_idx].T, parameters=names, name = name)"
   ]
  },
  {
   "cell_type": "raw",
   "metadata": {},
   "source": [
    "c.configure(kde=[False for _ in xrange(len(test_files))])#, shade_alpha=0.1, flip=False)"
   ]
  },
  {
   "cell_type": "code",
   "execution_count": 18,
   "metadata": {},
   "outputs": [
    {
     "data": {
      "image/png": "[encoded data removed]",
      "text/plain": [
       "<matplotlib.figure.Figure at 0x7f94c6157e10>"
      ]
     },
     "metadata": {},
     "output_type": "display_data"
    }
   ],
   "source": [
    "corner(outputs[closest_to_center_idx].T, truths= truths[closest_to_center_idx].T);"
   ]
  },
  {
   "cell_type": "raw",
   "metadata": {},
   "source": [
    "c.plotter.plot(figsize = 'GROW', truth=truths[closest_to_center_idx].T);"
   ]
  },
  {
   "cell_type": "raw",
   "metadata": {},
   "source": [
    "for i in xrange(50):\n",
    "    corner(outputs[i].T, truths = truths[i].T, quantiles=[0.16, 0.5, 0.84],);\n",
    "    plt.show()"
   ]
  },
  {
   "cell_type": "code",
   "execution_count": null,
   "metadata": {
    "collapsed": true
   },
   "outputs": [],
   "source": []
  },
  {
   "cell_type": "code",
   "execution_count": null,
   "metadata": {
    "collapsed": true
   },
   "outputs": [],
   "source": []
  }
 ],
 "metadata": {
  "kernelspec": {
   "display_name": "Python 2",
   "language": "python",
   "name": "python2"
  },
  "language_info": {
   "codemirror_mode": {
    "name": "ipython",
    "version": 2
   },
   "file_extension": ".py",
   "mimetype": "text/x-python",
   "name": "python",
   "nbconvert_exporter": "python",
   "pygments_lexer": "ipython2",
   "version": "2.7.13"
  }
 },
 "nbformat": 4,
 "nbformat_minor": 2
}
