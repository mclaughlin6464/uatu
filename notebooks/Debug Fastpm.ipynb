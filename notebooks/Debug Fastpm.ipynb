{
 "cells": [
  {
   "cell_type": "markdown",
   "metadata": {},
   "source": [
    "Nick ran boxes at the same resolution as I did and his look great. Time to figure out why... "
   ]
  },
  {
   "cell_type": "code",
   "execution_count": 27,
   "metadata": {
    "collapsed": true
   },
   "outputs": [],
   "source": [
    "%matplotlib inline\n",
    "import matplotlib.pyplot as plt\n",
    "import numpy as np\n",
    "import pandas as pd"
   ]
  },
  {
   "cell_type": "code",
   "execution_count": 28,
   "metadata": {
    "collapsed": true
   },
   "outputs": [],
   "source": [
    "import astropy.units as u\n",
    "from astropy.cosmology import z_at_value"
   ]
  },
  {
   "cell_type": "code",
   "execution_count": 29,
   "metadata": {
    "collapsed": true
   },
   "outputs": [],
   "source": [
    "from lenstools.simulations.fastpm import FastPMSnapshot \n",
    "from lenstools.simulations.raytracing import DensityPlane, PotentialPlane, RayTracer\n",
    "from lenstools.image.convergence import ConvergenceMap\n",
    "import bigfile"
   ]
  },
  {
   "cell_type": "code",
   "execution_count": 30,
   "metadata": {},
   "outputs": [
    {
     "name": "stdout",
     "output_type": "stream",
     "text": [
      "/home/users/swmclau2/scratch/UatuFastpmTest/Box001/lightcone/1/attr-v2\n",
      "/home/users/swmclau2/scratch/UatuFastpmTest/Box001/lightcone/1/header\n",
      "\n",
      "/home/users/swmclau2/scratch/UatuFastpmTest/Box001/lightcone/1/Aemit:\n",
      "000000\n",
      "000001\n",
      "000002\n",
      "attr-v2\n",
      "header\n",
      "\n",
      "/home/users/swmclau2/scratch/UatuFastpmTest/Box001/lightcone/1/ID:\n",
      "000000\n",
      "000001\n",
      "000002\n",
      "attr-v2\n",
      "header\n",
      "\n",
      "/home/users/swmclau2/scratch/UatuFastpmTest/Box001/lightcone/1/Position:\n",
      "000000\n",
      "000001\n",
      "000002\n",
      "attr-v2\n",
      "header\n",
      "\n",
      "/home/users/swmclau2/scratch/UatuFastpmTest/Box001/lightcone/1/Velocity:\n",
      "000000\n",
      "000001\n",
      "000002\n",
      "attr-v2\n",
      "header\n"
     ]
    }
   ],
   "source": [
    "%%bash\n",
    "ls /home/users/swmclau2/scratch/UatuFastpmTest/Box001/lightcone/1/*"
   ]
  },
  {
   "cell_type": "code",
   "execution_count": 31,
   "metadata": {
    "collapsed": true
   },
   "outputs": [],
   "source": [
    "class MyFastPMSnapshot(FastPMSnapshot):\n",
    "    \n",
    "    def getHeader(self):\n",
    "\n",
    "        #Initialize header\n",
    "        header = dict()\n",
    "        bf_header = self.fp[\".\"].attrs\n",
    "\n",
    "        ###############################################\n",
    "        #Translate fastPM header into lenstools header#\n",
    "        ###############################################\n",
    "\n",
    "        #Number of particles/files\n",
    "        header[\"num_particles_file\"] = bf_header[\"NC\"][0]**3\n",
    "        header[\"num_particles_total\"] = header[\"num_particles_file\"]\n",
    "        header[\"num_files\"] = 1\n",
    "\n",
    "        #Cosmology\n",
    "        header[\"Om0\"] = bf_header[\"OmegaM\"][0]\n",
    "        header[\"Ode0\"] = 1. - header[\"Om0\"]\n",
    "        header[\"w0\"] = -1.\n",
    "        header[\"wa\"] = 0.\n",
    "        header[\"h\"] = bf_header['HubbleParam'][0]\n",
    "\n",
    "        #Box size in kpc/h\n",
    "        header[\"box_size\"] = bf_header[\"BoxSize\"][0]*1.0e3\n",
    "\n",
    "        #Masses\n",
    "        header[\"masses\"] = bf_header['MassTable']*header[\"h\"]\n",
    "\n",
    "        #################\n",
    "\n",
    "        return header\n",
    "    def getPositions(self,first=None,last=None,save=True):\n",
    "\n",
    "\t\t#Get data pointer\n",
    "\t\tdata = bigfile.BigData(self.fp)\n",
    "\t\t\n",
    "\t\t#Read in positions in Mpc/h\n",
    "\t\tif (first is None) or (last is None):\n",
    "\t\t\tpositions = data[\"Position\"][:]*self.Mpc_over_h\n",
    "\t\t\t#aemit = data[\"Aemit\"][:]\n",
    "\t\telse:\n",
    "\t\t\tpositions = data[\"Position\"][first:last]*self.Mpc_over_h\n",
    "\t\t\t#aemit = data[\"Aemit\"][first:last]\n",
    "\n",
    "\t\t#Enforce periodic boundary conditions\n",
    "\t\tfor n in (0,1):\n",
    "\t\t\tpositions[:,n][positions[:,n]<0] += self.header[\"box_size\"]\n",
    "\t\t\tpositions[:,n][positions[:,n]>self.header[\"box_size\"]] -= self.header[\"box_size\"]\n",
    "\n",
    "\t\t#Maybe save\n",
    "\t\tif save:\n",
    "\t\t\tself.positions = positions\n",
    "\t\t\t#self.aemit = aemit\n",
    "\n",
    "\t\t#Initialize useless attributes to None\n",
    "\t\tself.weights = None\n",
    "\t\tself.virial_radius = None\n",
    "\t\tself.concentration = None\n",
    "\n",
    "\t\t#Return\n",
    "\t\treturn positions "
   ]
  },
  {
   "cell_type": "raw",
   "metadata": {},
   "source": [
    "snap_path = \"/home/users/swmclau2/scratch/UatuFastpmTest/Box001_big/lightcone/1/\"\n",
    "snap = MyFastPMSnapshot.open(snap_path)\n",
    "snap.getPositions()"
   ]
  },
  {
   "cell_type": "code",
   "execution_count": 32,
   "metadata": {
    "collapsed": true
   },
   "outputs": [],
   "source": [
    "snap_path = \"/home/users/swmclau2/scratch/UatuFastpmTest/Box000/\"\n",
    "#snap = MyFastPMSnapshot.open(snap_path)\n",
    "#snap.getPositions()"
   ]
  },
  {
   "cell_type": "code",
   "execution_count": 33,
   "metadata": {},
   "outputs": [],
   "source": [
    "nick_path = '/scratch/users/kokron/FastPMulus/Box000Replicate/Outputs_512/'\n",
    "#snap = MyFastPMSnapshot.open(snap_path)\n",
    "#snap.getPositions()"
   ]
  },
  {
   "cell_type": "code",
   "execution_count": 34,
   "metadata": {},
   "outputs": [],
   "source": [
    "nick_ps = np.loadtxt(\"/home/users/kokron/Projects/FastPMulus/TestRun/pklin.txt\")"
   ]
  },
  {
   "cell_type": "code",
   "execution_count": 35,
   "metadata": {
    "collapsed": true
   },
   "outputs": [],
   "source": [
    "my_ps = np.loadtxt('/scratch/users/swmclau2/UatuFastpmTest/Box001/class_pk.dat')"
   ]
  },
  {
   "cell_type": "code",
   "execution_count": 36,
   "metadata": {},
   "outputs": [
    {
     "data": {
      "image/png": "[encoded data removed]",
      "text/plain": [
       "<matplotlib.figure.Figure at 0x7f54e66fbf90>"
      ]
     },
     "metadata": {},
     "output_type": "display_data"
    }
   ],
   "source": [
    "plt.plot(nick_ps[:,0], nick_ps[:,1], label = 'Nick')\n",
    "plt.plot(my_ps[:,0], my_ps[:,1], label = 'Mine')\n",
    "plt.legend(loc='best')\n",
    "plt.loglog();"
   ]
  },
  {
   "cell_type": "code",
   "execution_count": 37,
   "metadata": {},
   "outputs": [
    {
     "data": {
      "text/plain": [
       "(600, 2)"
      ]
     },
     "execution_count": 37,
     "metadata": {},
     "output_type": "execute_result"
    }
   ],
   "source": [
    "my_ps.shape"
   ]
  },
  {
   "cell_type": "code",
   "execution_count": 38,
   "metadata": {},
   "outputs": [
    {
     "data": {
      "text/plain": [
       "(1e-05, 199.52623149688787)"
      ]
     },
     "execution_count": 38,
     "metadata": {},
     "output_type": "execute_result"
    }
   ],
   "source": [
    "nick_ps[:,0].min(), nick_ps[:,0].max()"
   ]
  },
  {
   "cell_type": "code",
   "execution_count": 39,
   "metadata": {
    "collapsed": true
   },
   "outputs": [],
   "source": [
    "from classy import Class"
   ]
  },
  {
   "cell_type": "code",
   "execution_count": 40,
   "metadata": {
    "collapsed": true
   },
   "outputs": [],
   "source": [
    "omega_m = 0.3405\n",
    "h = 0.6333\n",
    "sigma8 = 7.730715e-01\n",
    "o_cdm = 1.140598e-01/(h**2)"
   ]
  },
  {
   "cell_type": "code",
   "execution_count": 48,
   "metadata": {},
   "outputs": [
    {
     "data": {
      "text/plain": [
       "0.022504157044999997"
      ]
     },
     "execution_count": 48,
     "metadata": {},
     "output_type": "execute_result"
    }
   ],
   "source": [
    "(omega_m - o_cdm)*h**2"
   ]
  },
  {
   "cell_type": "code",
   "execution_count": 93,
   "metadata": {
    "collapsed": true
   },
   "outputs": [],
   "source": [
    "def compute_pk(O_cdm, sigma8, outputdir):\n",
    "    \"\"\"\n",
    "    Use class to compute the power spectrum and sigma 8 as initial conditions for the sims.\n",
    "    :param o_cdm:\n",
    "        Value of o_cdm to use in compuattion.\n",
    "    :param ln_10_As:\n",
    "        Vlaue of ln10^10A_s to use in computation\n",
    "    :param outputdir:\n",
    "        Outputdir to store the power specturm. It should be the same as where picola is loaded from.\n",
    "    :return:\n",
    "        sigma8. Return the value of sigma8 necessary to run the sims\n",
    "    \"\"\"\n",
    "\n",
    "    #z = 20.0 #Note maybe allow to vary, or make global\n",
    "    z = 0.0\n",
    "    params = {\n",
    "        'output': 'mPk',\n",
    "        #'ln10^{10}A_s': ln_10_As,\n",
    "        'sigma8': 7.730715e-01,\n",
    "        'P_k_max_h/Mpc': 300.0,\n",
    "        'n_s':  9.755890e-01,\n",
    "        'h': 6.336569e+01/100,\n",
    "        #'non linear': 'halofit',\n",
    "        'omega_b': 2.268325e-02,\n",
    "        'omega_cdm':  1.140598e-01,\n",
    "        'z_pk': z}\n",
    "\n",
    "    cosmo = Class()\n",
    "    cosmo.set(params)\n",
    "\n",
    "    cosmo.compute()#level = [\"initnonlinear\"])\n",
    "\n",
    "    k_size = 1000\n",
    "    ks = np.logspace(-5, 2.3, k_size).reshape(k_size,1,1)\n",
    "    zs = np.array([z])\n",
    "\n",
    "    pks =  cosmo.get_pk_lin(ks*h, zs, k_size, 1, 1)[:,0,0]*(h**3)\n",
    "\n",
    "    #np.savetxt(path.join(outputdir, 'class_pk.dat'), np.c_[ks[:,0,0], pks],\\\n",
    "    #           delimiter = ' ')\n",
    "\n",
    "    return np.c_[ks[:,0,0], pks] #cosmo.sigma8()\n"
   ]
  },
  {
   "cell_type": "code",
   "execution_count": 94,
   "metadata": {},
   "outputs": [],
   "source": [
    "my_new_pk = compute_pk(o_cdm, sigma8, '')"
   ]
  },
  {
   "cell_type": "code",
   "execution_count": 95,
   "metadata": {},
   "outputs": [
    {
     "data": {
      "text/plain": [
       "(array([1.00000000e-05, 1.01696805e-05, 1.03422401e-05, 1.05177277e-05,\n",
       "        1.06961930e-05, 1.08776865e-05, 1.10622595e-05, 1.12499645e-05,\n",
       "        1.14408544e-05, 1.16349833e-05]),\n",
       " array([1.00000000e-05, 1.01696805e-05, 1.03422401e-05, 1.05177277e-05,\n",
       "        1.06961930e-05, 1.08776865e-05, 1.10622595e-05, 1.12499645e-05,\n",
       "        1.14408544e-05, 1.16349833e-05]))"
      ]
     },
     "execution_count": 95,
     "metadata": {},
     "output_type": "execute_result"
    }
   ],
   "source": [
    "my_new_pk[:10,0], nick_ps[:10,0]"
   ]
  },
  {
   "cell_type": "code",
   "execution_count": 96,
   "metadata": {},
   "outputs": [
    {
     "data": {
      "image/png": "[encoded data removed]",
      "text/plain": [
       "<matplotlib.figure.Figure at 0x7f54e67406d0>"
      ]
     },
     "metadata": {},
     "output_type": "display_data"
    }
   ],
   "source": [
    "plt.plot(my_new_pk[:,0], my_new_pk[:,1], label = \"Mine\")\n",
    "plt.plot(nick_ps[:,0], nick_ps[:,1], label = 'Nick')\n",
    "plt.legend(loc='best')\n",
    "plt.loglog();"
   ]
  },
  {
   "cell_type": "code",
   "execution_count": 97,
   "metadata": {},
   "outputs": [
    {
     "data": {
      "image/png": "[encoded data removed]",
      "text/plain": [
       "<matplotlib.figure.Figure at 0x7f54ebed3b90>"
      ]
     },
     "metadata": {},
     "output_type": "display_data"
    }
   ],
   "source": [
    "plt.plot(my_new_pk[:,0], my_new_pk[:,1]/nick_ps[:,1])\n",
    "plt.xscale('log')"
   ]
  },
  {
   "cell_type": "code",
   "execution_count": null,
   "metadata": {
    "collapsed": true
   },
   "outputs": [],
   "source": []
  }
 ],
 "metadata": {
  "kernelspec": {
   "display_name": "Python 2",
   "language": "python",
   "name": "python2"
  },
  "language_info": {
   "codemirror_mode": {
    "name": "ipython",
    "version": 2
   },
   "file_extension": ".py",
   "mimetype": "text/x-python",
   "name": "python",
   "nbconvert_exporter": "python",
   "pygments_lexer": "ipython2",
   "version": "2.7.13"
  }
 },
 "nbformat": 4,
 "nbformat_minor": 2
}
