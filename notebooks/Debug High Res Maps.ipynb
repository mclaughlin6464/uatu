{
 "cells": [
  {
   "cell_type": "markdown",
   "metadata": {},
   "source": [
    "Trying to figure out why the process of making high res maps didn't work for a few of my samples. "
   ]
  },
  {
   "cell_type": "code",
   "execution_count": 2,
   "metadata": {},
   "outputs": [],
   "source": [
    "import numpy as np\n",
    "import astropy.units as u\n",
    "from astropy.cosmology import z_at_value\n",
    "\n",
    "from lenstools.simulations.fastpm import FastPMSnapshot\n",
    "from lenstools.simulations.raytracing import DensityPlane, PotentialPlane, RayTracer\n",
    "from lenstools.image.convergence import ConvergenceMap\n",
    "import bigfile\n",
    "\n",
    "from os import path\n",
    "from glob import glob\n",
    "from shutil import copy"
   ]
  },
  {
   "cell_type": "code",
   "execution_count": 57,
   "metadata": {},
   "outputs": [],
   "source": [
    "class MyFastPMSnapshot(FastPMSnapshot):\n",
    "    def getHeader(self):\n",
    "\n",
    "        #fastpm doesn't always save thigns in teh way that lenstools wants\n",
    "        basename = path.realpath(self.fp.basename)\n",
    "        header_files = glob(basename[:-2] + '/Header/*')\n",
    "        for hf in header_files:\n",
    "            copy(hf, basename)\n",
    "        # Initialize header\n",
    "        header = dict()\n",
    "        bf_header = self.fp[\".\"].attrs\n",
    "        ###############################################\n",
    "        # Translate fastPM header into lenstools header#\n",
    "        ###############################################\n",
    "\n",
    "        # Number of particles/files\n",
    "        header[\"num_particles_file\"] = bf_header[\"NC\"][0] ** 3\n",
    "        header[\"num_particles_total\"] = header[\"num_particles_file\"]\n",
    "        header[\"num_files\"] = 1\n",
    "\n",
    "        # Cosmology\n",
    "        header[\"Om0\"] = bf_header[\"OmegaM\"][0]\n",
    "        header[\"Ode0\"] = 1. - header[\"Om0\"]\n",
    "        header[\"w0\"] = -1.\n",
    "        header[\"wa\"] = 0.\n",
    "        header[\"h\"] = bf_header['HubbleParam'][0]\n",
    "\n",
    "        # Box size in kpc/h\n",
    "        header[\"box_size\"] = bf_header[\"BoxSize\"][0] * 1.0e3\n",
    "\n",
    "        # Masses\n",
    "        header[\"masses\"] = bf_header['MassTable'] * header[\"h\"]\n",
    "        print(header)\n",
    "        #################\n",
    "\n",
    "        return header\n",
    "    def getPositions(self, first=None, last=None, save=True):\n",
    "\n",
    "        # Get data pointer\n",
    "        data = bigfile.BigData(self.fp)\n",
    "        print(data.shape)\n",
    "        assert False\n",
    "        # Read in positions in Mpc/h\n",
    "        if (first is None) or (last is None):\n",
    "            positions = data[\"Position\"][:] * self.Mpc_over_h\n",
    "        # aemit = data[\"Aemit\"][:]\n",
    "        else:\n",
    "            positions = data[\"Position\"][first:last] * self.Mpc_over_h\n",
    "        # aemit = data[\"Aemit\"][first:last]\n",
    "        print(len(positions))\n",
    "        # Enforce periodic boundary conditions\n",
    "        for n in (0, 1):\n",
    "            positions[:, n][positions[:, n] < 0] += self.header[\"box_size\"]\n",
    "            positions[:, n][positions[:, n] > self.header[\"box_size\"]] -= self.header[\"box_size\"]\n",
    "\n",
    "        # Maybe save\n",
    "        if save:\n",
    "            self.positions = positions\n",
    "        # self.aemit = aemit\n",
    "\n",
    "        # Initialize useless attributes to None\n",
    "        self.weights = None\n",
    "        self.virial_radius = None\n",
    "        self.concentration = None\n",
    "        # Return\n",
    "        print(len(positions))\n",
    "        print(positions)\n",
    "        return positions\n"
   ]
  },
  {
   "cell_type": "code",
   "execution_count": 58,
   "metadata": {},
   "outputs": [],
   "source": [
    "def conv_in_fov(lens_planes, z_lens, start_coord, fov = 10*u.deg, fov_resolution = 256):\n",
    "\n",
    "    coords = np.linspace(0, fov.value, fov_resolution)\n",
    "    mesh_coords = np.meshgrid(coords, coords)\n",
    "\n",
    "    pos = (np.array(mesh_coords) + np.array(start_coord).reshape((-1, 1,1)) ) * fov.unit\n",
    "    #print pos.shape\n",
    "    conv_born = lens_planes.convergenceBorn(pos, z=z_lens, save_intermediate=False)\n",
    "    #print conv_born.data.shape\n",
    "    conv_born = ConvergenceMap(conv_born, angle=fov)\n",
    "\n",
    "    return conv_born.data\n"
   ]
  },
  {
   "cell_type": "code",
   "execution_count": 59,
   "metadata": {},
   "outputs": [],
   "source": [
    "def compute_potential_planes(snap, z_source, num_lenses, res=8192, smooth=1):\n",
    "    chi_max = snap.cosmology.comoving_distance(z_source)\n",
    "\n",
    "    thickness = chi_max / num_lenses\n",
    "    chi_start = thickness / 2\n",
    "    chi_end = chi_max - thickness / 2\n",
    "\n",
    "    # Lens centers\n",
    "    chi_centers = np.linspace(chi_start.value, chi_end.value, num_lenses) * chi_max.unit\n",
    "    tracer = RayTracer()\n",
    "    for i,chi in enumerate(chi_centers):\n",
    "        zlens = z_at_value(snap.cosmology.comoving_distance,chi)\n",
    "        #print chi, thickness, res, smooth\n",
    "        d,r,n = snap.cutPlaneGaussianGrid(normal=2,center=chi,thickness=thickness,plane_resolution=res,kind=\"potential\", smooth=smooth)\n",
    "\n",
    "        lens = PotentialPlane(d.value,angle=snap.header[\"box_size\"],comoving_distance=chi,redshift=zlens,cosmology=snap.cosmology,unit=u.rad**2)\n",
    "        tracer.addLens(lens)\n",
    "\n",
    "    #Add a fudge lens at the end (needed by ODE solver implementation)\n",
    "    chi_fudge = chi_end + thickness\n",
    "    z_fudge = 1000.\n",
    "    tracer.addLens(PotentialPlane(np.zeros((res,res)),angle=snap.header[\"box_size\"],redshift=z_fudge,comoving_distance=chi_fudge,cosmology=snap.cosmology,num_particles=None))\n",
    "    #Order lenses\n",
    "    tracer.reorderLenses()\n",
    "    return tracer\n"
   ]
  },
  {
   "cell_type": "code",
   "execution_count": 60,
   "metadata": {
    "collapsed": true
   },
   "outputs": [],
   "source": [
    "def convert_particles_to_convergence(lightcone_dir, ang_size_image=4, \n",
    "                                     ang_space_patches =None,\n",
    "                                     fov_resolution = 512,\n",
    "                                     potential_kwargs ={} ):\n",
    "\n",
    "    snap = MyFastPMSnapshot.open(lightcone_dir)\n",
    "    potential_defaults = {'z_source': 0.3, 'num_lenses': 25}\n",
    "    potential_defaults.update(potential_kwargs)\n",
    "    #print 'snap',len(snap.positions), snap.positions\n",
    "    lens_planes = compute_potential_planes(snap, **potential_defaults)\n",
    "    z = potential_defaults['z_source']\n",
    "    if ang_space_patches is None:\n",
    "        ang_space_patches = ang_size_image\n",
    "\n",
    "    n_sub = int( (360.0-ang_size_image)/ang_space_patches +1 )\n",
    "\n",
    "    conv = np.zeros((int(n_sub**2), fov_resolution, fov_resolution))\n",
    "    for i, ra in enumerate(np.arange(0.0, 360.0, ang_space_patches)):\n",
    "        for j,dec in enumerate(np.arange(0.0, 360.0, ang_space_patches)):\n",
    "            #print i,j, ra, dec\n",
    "            conv[i*n_sub+j] = conv_in_fov(lens_planes, z, (ra, dec), fov=ang_size_image * u.deg, fov_resolution=fov_resolution)\n",
    "\n",
    "    boxno = int(lightcone_dir[-16:-13])\n",
    "    np.save(path.join(lightcone_dir, 'proj_map_%d_%03d.npy'%(fov_resolution, boxno)), conv)\n",
    "\n"
   ]
  },
  {
   "cell_type": "code",
   "execution_count": 63,
   "metadata": {
    "collapsed": true
   },
   "outputs": [],
   "source": [
    "boxno = 11\n",
    "particle_path = '/home/users/swmclau2/scratch/UatuFastPM/Box%03d/lightcone/1/'%boxno"
   ]
  },
  {
   "cell_type": "raw",
   "metadata": {},
   "source": [
    "{'num_particles_file': 134217728, 'num_particles_total': 134217728, 'num_files': 1, 'Om0': 0.167877, 'Ode0': 0.832123, 'w0': -1.0, 'wa': 0.0, 'h': 0.7, 'box_size': 1024000.0, 'masses': array([ 0.       , 26.0838553,  0.       ,  0.       ,  0.       ,\n",
    "        0.       ])}"
   ]
  },
  {
   "cell_type": "code",
   "execution_count": 64,
   "metadata": {
    "scrolled": false
   },
   "outputs": [
    {
     "name": "stdout",
     "output_type": "stream",
     "text": [
      "{'num_particles_file': 134217728, 'num_particles_total': 134217728, 'num_files': 1, 'Om0': 0.284745, 'Ode0': 0.715255, 'w0': -1.0, 'wa': 0.0, 'h': 0.7, 'box_size': 1024000.0, 'masses': array([ 0.        , 44.24219743,  0.        ,  0.        ,  0.        ,\n",
      "        0.        ])}\n",
      "(134206871,)\n"
     ]
    },
    {
     "ename": "AssertionError",
     "evalue": "",
     "output_type": "error",
     "traceback": [
      "\u001b[0;31m---------------------------------------------------------------------------\u001b[0m",
      "\u001b[0;31mAssertionError\u001b[0m                            Traceback (most recent call last)",
      "\u001b[0;32m<ipython-input-64-cc3ade0033d3>\u001b[0m in \u001b[0;36m<module>\u001b[0;34m()\u001b[0m\n\u001b[0;32m----> 1\u001b[0;31m \u001b[0mconvert_particles_to_convergence\u001b[0m\u001b[0;34m(\u001b[0m\u001b[0mparticle_path\u001b[0m\u001b[0;34m)\u001b[0m\u001b[0;34m\u001b[0m\u001b[0m\n\u001b[0m",
      "\u001b[0;32m<ipython-input-60-b55b64472665>\u001b[0m in \u001b[0;36mconvert_particles_to_convergence\u001b[0;34m(lightcone_dir, ang_size_image, ang_space_patches, fov_resolution, potential_kwargs)\u001b[0m\n\u001b[1;32m      8\u001b[0m     \u001b[0mpotential_defaults\u001b[0m\u001b[0;34m.\u001b[0m\u001b[0mupdate\u001b[0m\u001b[0;34m(\u001b[0m\u001b[0mpotential_kwargs\u001b[0m\u001b[0;34m)\u001b[0m\u001b[0;34m\u001b[0m\u001b[0m\n\u001b[1;32m      9\u001b[0m     \u001b[0;31m#print 'snap',len(snap.positions), snap.positions\u001b[0m\u001b[0;34m\u001b[0m\u001b[0;34m\u001b[0m\u001b[0m\n\u001b[0;32m---> 10\u001b[0;31m     \u001b[0mlens_planes\u001b[0m \u001b[0;34m=\u001b[0m \u001b[0mcompute_potential_planes\u001b[0m\u001b[0;34m(\u001b[0m\u001b[0msnap\u001b[0m\u001b[0;34m,\u001b[0m \u001b[0;34m**\u001b[0m\u001b[0mpotential_defaults\u001b[0m\u001b[0;34m)\u001b[0m\u001b[0;34m\u001b[0m\u001b[0m\n\u001b[0m\u001b[1;32m     11\u001b[0m     \u001b[0mz\u001b[0m \u001b[0;34m=\u001b[0m \u001b[0mpotential_defaults\u001b[0m\u001b[0;34m[\u001b[0m\u001b[0;34m'z_source'\u001b[0m\u001b[0;34m]\u001b[0m\u001b[0;34m\u001b[0m\u001b[0m\n\u001b[1;32m     12\u001b[0m     \u001b[0;32mif\u001b[0m \u001b[0mang_space_patches\u001b[0m \u001b[0;32mis\u001b[0m \u001b[0;32mNone\u001b[0m\u001b[0;34m:\u001b[0m\u001b[0;34m\u001b[0m\u001b[0m\n",
      "\u001b[0;32m<ipython-input-59-66beed48f5f8>\u001b[0m in \u001b[0;36mcompute_potential_planes\u001b[0;34m(snap, z_source, num_lenses, res, smooth)\u001b[0m\n\u001b[1;32m     12\u001b[0m         \u001b[0mzlens\u001b[0m \u001b[0;34m=\u001b[0m \u001b[0mz_at_value\u001b[0m\u001b[0;34m(\u001b[0m\u001b[0msnap\u001b[0m\u001b[0;34m.\u001b[0m\u001b[0mcosmology\u001b[0m\u001b[0;34m.\u001b[0m\u001b[0mcomoving_distance\u001b[0m\u001b[0;34m,\u001b[0m\u001b[0mchi\u001b[0m\u001b[0;34m)\u001b[0m\u001b[0;34m\u001b[0m\u001b[0m\n\u001b[1;32m     13\u001b[0m         \u001b[0;31m#print chi, thickness, res, smooth\u001b[0m\u001b[0;34m\u001b[0m\u001b[0;34m\u001b[0m\u001b[0m\n\u001b[0;32m---> 14\u001b[0;31m         \u001b[0md\u001b[0m\u001b[0;34m,\u001b[0m\u001b[0mr\u001b[0m\u001b[0;34m,\u001b[0m\u001b[0mn\u001b[0m \u001b[0;34m=\u001b[0m \u001b[0msnap\u001b[0m\u001b[0;34m.\u001b[0m\u001b[0mcutPlaneGaussianGrid\u001b[0m\u001b[0;34m(\u001b[0m\u001b[0mnormal\u001b[0m\u001b[0;34m=\u001b[0m\u001b[0;36m2\u001b[0m\u001b[0;34m,\u001b[0m\u001b[0mcenter\u001b[0m\u001b[0;34m=\u001b[0m\u001b[0mchi\u001b[0m\u001b[0;34m,\u001b[0m\u001b[0mthickness\u001b[0m\u001b[0;34m=\u001b[0m\u001b[0mthickness\u001b[0m\u001b[0;34m,\u001b[0m\u001b[0mplane_resolution\u001b[0m\u001b[0;34m=\u001b[0m\u001b[0mres\u001b[0m\u001b[0;34m,\u001b[0m\u001b[0mkind\u001b[0m\u001b[0;34m=\u001b[0m\u001b[0;34m\"potential\"\u001b[0m\u001b[0;34m,\u001b[0m \u001b[0msmooth\u001b[0m\u001b[0;34m=\u001b[0m\u001b[0msmooth\u001b[0m\u001b[0;34m)\u001b[0m\u001b[0;34m\u001b[0m\u001b[0m\n\u001b[0m\u001b[1;32m     15\u001b[0m \u001b[0;34m\u001b[0m\u001b[0m\n\u001b[1;32m     16\u001b[0m         \u001b[0mlens\u001b[0m \u001b[0;34m=\u001b[0m \u001b[0mPotentialPlane\u001b[0m\u001b[0;34m(\u001b[0m\u001b[0md\u001b[0m\u001b[0;34m.\u001b[0m\u001b[0mvalue\u001b[0m\u001b[0;34m,\u001b[0m\u001b[0mangle\u001b[0m\u001b[0;34m=\u001b[0m\u001b[0msnap\u001b[0m\u001b[0;34m.\u001b[0m\u001b[0mheader\u001b[0m\u001b[0;34m[\u001b[0m\u001b[0;34m\"box_size\"\u001b[0m\u001b[0;34m]\u001b[0m\u001b[0;34m,\u001b[0m\u001b[0mcomoving_distance\u001b[0m\u001b[0;34m=\u001b[0m\u001b[0mchi\u001b[0m\u001b[0;34m,\u001b[0m\u001b[0mredshift\u001b[0m\u001b[0;34m=\u001b[0m\u001b[0mzlens\u001b[0m\u001b[0;34m,\u001b[0m\u001b[0mcosmology\u001b[0m\u001b[0;34m=\u001b[0m\u001b[0msnap\u001b[0m\u001b[0;34m.\u001b[0m\u001b[0mcosmology\u001b[0m\u001b[0;34m,\u001b[0m\u001b[0munit\u001b[0m\u001b[0;34m=\u001b[0m\u001b[0mu\u001b[0m\u001b[0;34m.\u001b[0m\u001b[0mrad\u001b[0m\u001b[0;34m**\u001b[0m\u001b[0;36m2\u001b[0m\u001b[0;34m)\u001b[0m\u001b[0;34m\u001b[0m\u001b[0m\n",
      "\u001b[0;32m/share/software/user/open/py-lenstools/1.0_py36/lib/python3.6/site-packages/lenstools/simulations/nbody.py\u001b[0m in \u001b[0;36mcutPlaneGaussianGrid\u001b[0;34m(self, normal, thickness, center, plane_resolution, left_corner, thickness_resolution, smooth, kind, **kwargs)\u001b[0m\n\u001b[1;32m    576\u001b[0m                         \u001b[0mpositions\u001b[0m \u001b[0;34m=\u001b[0m \u001b[0mself\u001b[0m\u001b[0;34m.\u001b[0m\u001b[0mpositions\u001b[0m\u001b[0;34m\u001b[0m\u001b[0m\n\u001b[1;32m    577\u001b[0m                 \u001b[0;32melse\u001b[0m\u001b[0;34m:\u001b[0m\u001b[0;34m\u001b[0m\u001b[0m\n\u001b[0;32m--> 578\u001b[0;31m                         \u001b[0mpositions\u001b[0m \u001b[0;34m=\u001b[0m \u001b[0mself\u001b[0m\u001b[0;34m.\u001b[0m\u001b[0mgetPositions\u001b[0m\u001b[0;34m(\u001b[0m\u001b[0mfirst\u001b[0m\u001b[0;34m=\u001b[0m\u001b[0mself\u001b[0m\u001b[0;34m.\u001b[0m\u001b[0m_first\u001b[0m\u001b[0;34m,\u001b[0m\u001b[0mlast\u001b[0m\u001b[0;34m=\u001b[0m\u001b[0mself\u001b[0m\u001b[0;34m.\u001b[0m\u001b[0m_last\u001b[0m\u001b[0;34m,\u001b[0m\u001b[0msave\u001b[0m\u001b[0;34m=\u001b[0m\u001b[0;32mFalse\u001b[0m\u001b[0;34m)\u001b[0m\u001b[0;34m\u001b[0m\u001b[0m\n\u001b[0m\u001b[1;32m    579\u001b[0m \u001b[0;34m\u001b[0m\u001b[0m\n\u001b[1;32m    580\u001b[0m                 \u001b[0;32massert\u001b[0m \u001b[0mhasattr\u001b[0m\u001b[0;34m(\u001b[0m\u001b[0mself\u001b[0m\u001b[0;34m,\u001b[0m\u001b[0;34m\"weights\"\u001b[0m\u001b[0;34m)\u001b[0m\u001b[0;34m\u001b[0m\u001b[0m\n",
      "\u001b[0;32m<ipython-input-57-e2dc290d6263>\u001b[0m in \u001b[0;36mgetPositions\u001b[0;34m(self, first, last, save)\u001b[0m\n\u001b[1;32m     40\u001b[0m         \u001b[0mdata\u001b[0m \u001b[0;34m=\u001b[0m \u001b[0mbigfile\u001b[0m\u001b[0;34m.\u001b[0m\u001b[0mBigData\u001b[0m\u001b[0;34m(\u001b[0m\u001b[0mself\u001b[0m\u001b[0;34m.\u001b[0m\u001b[0mfp\u001b[0m\u001b[0;34m)\u001b[0m\u001b[0;34m\u001b[0m\u001b[0m\n\u001b[1;32m     41\u001b[0m         \u001b[0mprint\u001b[0m\u001b[0;34m(\u001b[0m\u001b[0mdata\u001b[0m\u001b[0;34m.\u001b[0m\u001b[0mshape\u001b[0m\u001b[0;34m)\u001b[0m\u001b[0;34m\u001b[0m\u001b[0m\n\u001b[0;32m---> 42\u001b[0;31m         \u001b[0;32massert\u001b[0m \u001b[0;32mFalse\u001b[0m\u001b[0;34m\u001b[0m\u001b[0m\n\u001b[0m\u001b[1;32m     43\u001b[0m         \u001b[0;31m# Read in positions in Mpc/h\u001b[0m\u001b[0;34m\u001b[0m\u001b[0;34m\u001b[0m\u001b[0m\n\u001b[1;32m     44\u001b[0m         \u001b[0;32mif\u001b[0m \u001b[0;34m(\u001b[0m\u001b[0mfirst\u001b[0m \u001b[0;32mis\u001b[0m \u001b[0;32mNone\u001b[0m\u001b[0;34m)\u001b[0m \u001b[0;32mor\u001b[0m \u001b[0;34m(\u001b[0m\u001b[0mlast\u001b[0m \u001b[0;32mis\u001b[0m \u001b[0;32mNone\u001b[0m\u001b[0;34m)\u001b[0m\u001b[0;34m:\u001b[0m\u001b[0;34m\u001b[0m\u001b[0m\n",
      "\u001b[0;31mAssertionError\u001b[0m: "
     ]
    }
   ],
   "source": [
    "convert_particles_to_convergence(particle_path)"
   ]
  },
  {
   "cell_type": "code",
   "execution_count": null,
   "metadata": {
    "collapsed": true
   },
   "outputs": [],
   "source": []
  }
 ],
 "metadata": {
  "kernelspec": {
   "display_name": "Python 3",
   "language": "python",
   "name": "python3"
  },
  "language_info": {
   "codemirror_mode": {
    "name": "ipython",
    "version": 3
   },
   "file_extension": ".py",
   "mimetype": "text/x-python",
   "name": "python",
   "nbconvert_exporter": "python",
   "pygments_lexer": "ipython3",
   "version": "3.6.1"
  }
 },
 "nbformat": 4,
 "nbformat_minor": 2
}
