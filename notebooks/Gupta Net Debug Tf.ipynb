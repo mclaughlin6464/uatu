{
 "cells": [
  {
   "cell_type": "markdown",
   "metadata": {},
   "source": [
    "Confirming Gupta net works the same in both pytorch and tf. "
   ]
  },
  {
   "cell_type": "code",
   "execution_count": 1,
   "metadata": {},
   "outputs": [],
   "source": [
    "import numpy as np\n",
    "from matplotlib import pyplot as plt\n",
    "%matplotlib inline"
   ]
  },
  {
   "cell_type": "code",
   "execution_count": 2,
   "metadata": {},
   "outputs": [],
   "source": [
    "import h5py"
   ]
  },
  {
   "cell_type": "code",
   "execution_count": 3,
   "metadata": {
    "scrolled": true
   },
   "outputs": [],
   "source": [
    "import tensorflow as tf"
   ]
  },
  {
   "cell_type": "code",
   "execution_count": 4,
   "metadata": {},
   "outputs": [],
   "source": [
    "import tensorflow as tf\n",
    "tf.logging.set_verbosity(tf.logging.ERROR)"
   ]
  },
  {
   "cell_type": "code",
   "execution_count": 5,
   "metadata": {},
   "outputs": [],
   "source": [
    "from uatu.watchers import *"
   ]
  },
  {
   "cell_type": "code",
   "execution_count": 6,
   "metadata": {},
   "outputs": [],
   "source": [
    "from scipy.ndimage import rotate"
   ]
  },
  {
   "cell_type": "code",
   "execution_count": 7,
   "metadata": {},
   "outputs": [],
   "source": [
    "def test(model_init_fn, x_np,y_np, fname, cost_fn, training=False, adv = False):\n",
    "    tf.reset_default_graph()\n",
    "    \n",
    "\n",
    "    x = tf.placeholder(tf.float32, [None, 256,256,1], name = 'x')\n",
    "    y = tf.placeholder(tf.float32, [None,2])\n",
    "    \n",
    "    with tf.variable_scope('kappa_filters') as scope:\n",
    "        preds = model_init_fn(x, training=training)\n",
    "    #loss = cost_fn(y, preds)\n",
    "    #preds = tf.layers.flatten(preds)\n",
    "    #with tf.device('/cpu:0'):\n",
    "    saver = tf.train.Saver()\n",
    "\n",
    "    with tf.Session() as sess:\n",
    "        saver.restore(sess, fname)\n",
    "        #sess.run(tf.global_variables_initializer())\n",
    "\n",
    "        #assert y_np.shape[0] == 1 , 'batchsize greater than 1'\n",
    "        #samples = []\n",
    "        feed_dict = {x: x_np, y:y_np}#, training: False}\n",
    "\n",
    "        #preds_np, loss_np  = sess.run([preds, loss], feed_dict=feed_dict)\n",
    "        preds_np  = sess.run(preds, feed_dict=feed_dict)\n",
    "\n",
    "        #samples.append(preds_np)\n",
    "\n",
    "    return preds_np#, loss_np#np.vstack(samples)"
   ]
  },
  {
   "cell_type": "code",
   "execution_count": 8,
   "metadata": {},
   "outputs": [],
   "source": [
    "f = h5py.File('../data/UatuLightconeTraining.hdf5', 'r')\n",
    "mean, std =  f.attrs['mean'], f.attrs['std']\n",
    "f.close()"
   ]
  },
  {
   "cell_type": "code",
   "execution_count": 9,
   "metadata": {},
   "outputs": [],
   "source": [
    "f = h5py.File('../data/UatuLightconeSameSeed.hdf5', 'r')\n",
    "boxno = 2\n",
    "test_X = np.array(f['Box%03d'%boxno][\"X\"][()])\n",
    "test_Y = f['Box%03d'%boxno]['Y'][0].reshape((1,2))\n",
    "f.close()"
   ]
  },
  {
   "cell_type": "code",
   "execution_count": 10,
   "metadata": {},
   "outputs": [],
   "source": [
    "test_X = (test_X-mean)/(std)"
   ]
  },
  {
   "cell_type": "code",
   "execution_count": 11,
   "metadata": {},
   "outputs": [],
   "source": [
    "n = 100 \n",
    "batch_size = 1 \n",
    "\n",
    "X = test_X[n, :, :, :].reshape((1, test_X.shape[1],\\\n",
    "                                test_X.shape[2], test_X.shape[3]))\n",
    "X = np.tile(X, (batch_size, 1, 1, 1) )\n",
    "Y = test_Y[0, :].reshape((1, test_Y.shape[1]))\n",
    "Y = np.tile(Y, (batch_size, 1))"
   ]
  },
  {
   "cell_type": "raw",
   "metadata": {},
   "source": [
    "#Box Cosmos:\n",
    "box_cosmos = np.array([\n",
    "[0.303972, 0.877967],\n",
    "[0.281863, 0.856348],\n",
    "[0.250043, 0.760264],\n",
    "[0.347294, 0.978854],\n",
    "[0.260716, 0.776786]])"
   ]
  },
  {
   "cell_type": "raw",
   "metadata": {},
   "source": [
    "net = 'normal'\n",
    "network_fname = '../networks/gupta_net_kappa-28900'\n",
    "model_init_fn = gupta_network_init_fn\n",
    "cost_fn = standard_abs_cost_fn\n",
    "training=False\n",
    "adv = False"
   ]
  },
  {
   "cell_type": "raw",
   "metadata": {},
   "source": [
    "net = 'bayes'\n",
    "network_fname = '../networks/gupta_bayes_net_kappa-45000'\n",
    "model_init_fn = gupta_bayesian_network_init_fn\n",
    "cost_fn = original_bayes_cost_fn\n",
    "training=True\n",
    "adv = False"
   ]
  },
  {
   "cell_type": "code",
   "execution_count": 12,
   "metadata": {},
   "outputs": [],
   "source": [
    "net = 'adversarial'\n",
    "network_fname = '../networks/gupta_net_kappa_adv_abs-9050'\n",
    "model_init_fn = gupta_adv_network_init_fn\n",
    "cost_fn = adversarial_standard_abs_cost_fn\n",
    "training=False\n",
    "adv = True"
   ]
  },
  {
   "cell_type": "code",
   "execution_count": 13,
   "metadata": {},
   "outputs": [],
   "source": [
    "pred = test(model_init_fn, X,Y, network_fname, cost_fn, training, adv=adv)"
   ]
  },
  {
   "cell_type": "code",
   "execution_count": 14,
   "metadata": {},
   "outputs": [
    {
     "data": {
      "text/plain": [
       "(1, 256)"
      ]
     },
     "execution_count": 14,
     "metadata": {},
     "output_type": "execute_result"
    }
   ],
   "source": [
    "pred.shape"
   ]
  },
  {
   "cell_type": "code",
   "execution_count": 15,
   "metadata": {},
   "outputs": [
    {
     "data": {
      "text/plain": [
       "array([-0.00641268,  0.00758688, -0.00231059,  0.06186396, -0.00331707,\n",
       "       -0.05586817,  0.02360274,  0.05106198, -0.0295847 ,  0.07001832],\n",
       "      dtype=float32)"
      ]
     },
     "execution_count": 15,
     "metadata": {},
     "output_type": "execute_result"
    }
   ],
   "source": [
    "pred[0,:10]"
   ]
  },
  {
   "cell_type": "code",
   "execution_count": 16,
   "metadata": {},
   "outputs": [],
   "source": [
    "np.save('tmp.npy', pred)\n",
    "#np.save('flat_out.npy', pred)\n",
    "#np.save('weight_mat.npy', pred)"
   ]
  },
  {
   "cell_type": "raw",
   "metadata": {},
   "source": [
    "plt.imshow(pred[0,:,:,0])"
   ]
  },
  {
   "cell_type": "code",
   "execution_count": 17,
   "metadata": {},
   "outputs": [
    {
     "data": {
      "text/plain": [
       "array([[0.256755, 0.77129 ]])"
      ]
     },
     "execution_count": 17,
     "metadata": {},
     "output_type": "execute_result"
    }
   ],
   "source": [
    "Y"
   ]
  },
  {
   "cell_type": "code",
   "execution_count": null,
   "metadata": {},
   "outputs": [],
   "source": []
  }
 ],
 "metadata": {
  "kernelspec": {
   "display_name": "Python 2",
   "language": "python",
   "name": "python2"
  },
  "language_info": {
   "codemirror_mode": {
    "name": "ipython",
    "version": 2
   },
   "file_extension": ".py",
   "mimetype": "text/x-python",
   "name": "python",
   "nbconvert_exporter": "python",
   "pygments_lexer": "ipython2",
   "version": "2.7.15+"
  }
 },
 "nbformat": 4,
 "nbformat_minor": 2
}
